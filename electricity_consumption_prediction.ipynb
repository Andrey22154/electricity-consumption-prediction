{
  "nbformat": 4,
  "nbformat_minor": 0,
  "metadata": {
    "colab": {
      "provenance": [],
      "authorship_tag": "ABX9TyOFlrecAeK+BOkbwgc/EtTH",
      "include_colab_link": true
    },
    "kernelspec": {
      "name": "python3",
      "display_name": "Python 3"
    },
    "language_info": {
      "name": "python"
    }
  },
  "cells": [
    {
      "cell_type": "markdown",
      "metadata": {
        "id": "view-in-github",
        "colab_type": "text"
      },
      "source": [
        "<a href=\"https://colab.research.google.com/github/Andrey22154/electricity-consumption-prediction/blob/main/electricity_consumption_prediction.ipynb\" target=\"_parent\"><img src=\"https://colab.research.google.com/assets/colab-badge.svg\" alt=\"Open In Colab\"/></a>"
      ]
    },
    {
      "cell_type": "code",
      "execution_count": 1,
      "metadata": {
        "id": "yjnZFnebB9mh"
      },
      "outputs": [],
      "source": [
        "import plotly.graph_objects as go\n",
        "import pandas as pd\n",
        "from datetime import datetime\n",
        "import matplotlib.pyplot as plt\n",
        "import numpy as np\n",
        "import seaborn as sns\n",
        "from sklearn.model_selection import KFold, StratifiedKFold, cross_val_score\n",
        "from sklearn.model_selection import cross_val_predict\n",
        "#from sklearn.ensemble import RandomForestRegressor\n",
        "from xgboost import XGBRegressor"
      ]
    },
    {
      "cell_type": "code",
      "source": [
        "df_1 = pd.read_excel('/content/mine_data.xlsx')"
      ],
      "metadata": {
        "id": "LiNz-6n5CKW3"
      },
      "execution_count": 30,
      "outputs": []
    },
    {
      "cell_type": "code",
      "source": [
        "df_1['DateTime'] = df_1['/DateTime/Power/Haulage_speed/Traffic_flow'].str.split('/').str.get(1)\n",
        "df_1['Power'] = df_1['/DateTime/Power/Haulage_speed/Traffic_flow'].str.split('/').str.get(2)\n",
        "df_1['Haulage_speed'] = df_1['/DateTime/Power/Haulage_speed/Traffic_flow'].str.split('/').str.get(3)\n",
        "df_1['Traffic_flow'] = df_1['/DateTime/Power/Haulage_speed/Traffic_flow'].str.split('/').str.get(4)\n",
        "df_1.drop(['/DateTime/Power/Haulage_speed/Traffic_flow'], axis = 1, inplace = True)"
      ],
      "metadata": {
        "id": "iVajGiRQCKZp"
      },
      "execution_count": 31,
      "outputs": []
    },
    {
      "cell_type": "code",
      "source": [
        "df = df_1.dropna()\n",
        "df['Haulage_speed'][0] = df['Haulage_speed'][1]"
      ],
      "metadata": {
        "id": "yUmkVHvXCKcu"
      },
      "execution_count": 32,
      "outputs": []
    },
    {
      "cell_type": "code",
      "source": [
        "df['DateTime'] = df['DateTime'].apply(np.datetime64)\n",
        "df['Power'] = df['Power'].apply(np.float64)\n",
        "df['Traffic_flow'] = df['Traffic_flow'].apply(np.float64)\n",
        "df['Haulage_speed'] = df['Haulage_speed'].apply(np.float64)"
      ],
      "metadata": {
        "id": "FCN0fgOPCKfa"
      },
      "execution_count": 33,
      "outputs": []
    },
    {
      "cell_type": "code",
      "source": [
        "dd_1 = df.query('Haulage_speed == 0 & Power > 0')\n",
        "dd_2 = df.query('Haulage_speed == 0 & Traffic_flow != 0')\n",
        "\n",
        "df = df.drop(index = dd_2.index)\n",
        "#df = df.drop(index = dd_1.index)"
      ],
      "metadata": {
        "id": "C1W79a1OCKh_"
      },
      "execution_count": 34,
      "outputs": []
    },
    {
      "cell_type": "code",
      "source": [
        "df = df[df['Power'] < 750]"
      ],
      "metadata": {
        "id": "Vk-f4tHTCKkd"
      },
      "execution_count": 35,
      "outputs": []
    },
    {
      "cell_type": "code",
      "source": [
        "df.index = df.DateTime\n",
        "df = df.drop(['DateTime'], axis = 1)\n",
        "Working_Shift_1 = df.between_time('09:00:00', '16:59:59') # Смена 1\n",
        "Working_Shift_2 = df.between_time('17:00:00', '00:59:59') # Смена 2\n",
        "Working_Shift_3 = df.between_time('01:00:00', '08:59:59') # Смена 3"
      ],
      "metadata": {
        "id": "0i7t36ZOCKm7"
      },
      "execution_count": 36,
      "outputs": []
    },
    {
      "cell_type": "code",
      "source": [
        "work_time = []\n",
        "for i in df.index:\n",
        "  if (i == Working_Shift_1.index).any():\n",
        "    work_time.append(1)\n",
        "  if (i == Working_Shift_2.index).any():\n",
        "    work_time.append(2)\n",
        "  if (i == Working_Shift_3.index).any():\n",
        "    work_time.append(3)"
      ],
      "metadata": {
        "id": "Y5prWbtuCKpv"
      },
      "execution_count": 37,
      "outputs": []
    },
    {
      "cell_type": "code",
      "source": [
        "work_time = pd.DataFrame({'work_time':work_time})"
      ],
      "metadata": {
        "id": "FjR1kyYgCKse"
      },
      "execution_count": 38,
      "outputs": []
    },
    {
      "cell_type": "code",
      "source": [
        "df['DateTime'] = df.index\n",
        "df.index = range(0, 579773)\n",
        "df"
      ],
      "metadata": {
        "colab": {
          "base_uri": "https://localhost:8080/",
          "height": 424
        },
        "id": "SprXi_BgCKuw",
        "outputId": "b5921ea6-1ab6-4836-b88a-843a9f83d75d"
      },
      "execution_count": 39,
      "outputs": [
        {
          "output_type": "execute_result",
          "data": {
            "text/plain": [
              "         Power  Haulage_speed  Traffic_flow            DateTime\n",
              "0       458.11           8.46        2423.0 2020-09-11 00:00:00\n",
              "1       458.11           8.46        2440.0 2020-09-11 00:00:05\n",
              "2       458.11           8.45        2453.0 2020-09-11 00:00:10\n",
              "3       458.11           8.40        2463.0 2020-09-11 00:00:15\n",
              "4       484.66           9.01        2483.0 2020-09-11 00:00:20\n",
              "...        ...            ...           ...                 ...\n",
              "579768    0.00           0.00           0.0 2020-11-10 15:18:30\n",
              "579769    0.00           0.00           0.0 2020-11-10 15:18:35\n",
              "579770    0.00           0.00           0.0 2020-11-10 15:18:40\n",
              "579771    0.00           0.00           0.0 2020-11-10 15:18:45\n",
              "579772    0.00           0.00           0.0 2020-11-10 15:18:50\n",
              "\n",
              "[579773 rows x 4 columns]"
            ],
            "text/html": [
              "\n",
              "  <div id=\"df-f8ea81ed-e101-42f2-bf20-c8abf595bfbe\">\n",
              "    <div class=\"colab-df-container\">\n",
              "      <div>\n",
              "<style scoped>\n",
              "    .dataframe tbody tr th:only-of-type {\n",
              "        vertical-align: middle;\n",
              "    }\n",
              "\n",
              "    .dataframe tbody tr th {\n",
              "        vertical-align: top;\n",
              "    }\n",
              "\n",
              "    .dataframe thead th {\n",
              "        text-align: right;\n",
              "    }\n",
              "</style>\n",
              "<table border=\"1\" class=\"dataframe\">\n",
              "  <thead>\n",
              "    <tr style=\"text-align: right;\">\n",
              "      <th></th>\n",
              "      <th>Power</th>\n",
              "      <th>Haulage_speed</th>\n",
              "      <th>Traffic_flow</th>\n",
              "      <th>DateTime</th>\n",
              "    </tr>\n",
              "  </thead>\n",
              "  <tbody>\n",
              "    <tr>\n",
              "      <th>0</th>\n",
              "      <td>458.11</td>\n",
              "      <td>8.46</td>\n",
              "      <td>2423.0</td>\n",
              "      <td>2020-09-11 00:00:00</td>\n",
              "    </tr>\n",
              "    <tr>\n",
              "      <th>1</th>\n",
              "      <td>458.11</td>\n",
              "      <td>8.46</td>\n",
              "      <td>2440.0</td>\n",
              "      <td>2020-09-11 00:00:05</td>\n",
              "    </tr>\n",
              "    <tr>\n",
              "      <th>2</th>\n",
              "      <td>458.11</td>\n",
              "      <td>8.45</td>\n",
              "      <td>2453.0</td>\n",
              "      <td>2020-09-11 00:00:10</td>\n",
              "    </tr>\n",
              "    <tr>\n",
              "      <th>3</th>\n",
              "      <td>458.11</td>\n",
              "      <td>8.40</td>\n",
              "      <td>2463.0</td>\n",
              "      <td>2020-09-11 00:00:15</td>\n",
              "    </tr>\n",
              "    <tr>\n",
              "      <th>4</th>\n",
              "      <td>484.66</td>\n",
              "      <td>9.01</td>\n",
              "      <td>2483.0</td>\n",
              "      <td>2020-09-11 00:00:20</td>\n",
              "    </tr>\n",
              "    <tr>\n",
              "      <th>...</th>\n",
              "      <td>...</td>\n",
              "      <td>...</td>\n",
              "      <td>...</td>\n",
              "      <td>...</td>\n",
              "    </tr>\n",
              "    <tr>\n",
              "      <th>579768</th>\n",
              "      <td>0.00</td>\n",
              "      <td>0.00</td>\n",
              "      <td>0.0</td>\n",
              "      <td>2020-11-10 15:18:30</td>\n",
              "    </tr>\n",
              "    <tr>\n",
              "      <th>579769</th>\n",
              "      <td>0.00</td>\n",
              "      <td>0.00</td>\n",
              "      <td>0.0</td>\n",
              "      <td>2020-11-10 15:18:35</td>\n",
              "    </tr>\n",
              "    <tr>\n",
              "      <th>579770</th>\n",
              "      <td>0.00</td>\n",
              "      <td>0.00</td>\n",
              "      <td>0.0</td>\n",
              "      <td>2020-11-10 15:18:40</td>\n",
              "    </tr>\n",
              "    <tr>\n",
              "      <th>579771</th>\n",
              "      <td>0.00</td>\n",
              "      <td>0.00</td>\n",
              "      <td>0.0</td>\n",
              "      <td>2020-11-10 15:18:45</td>\n",
              "    </tr>\n",
              "    <tr>\n",
              "      <th>579772</th>\n",
              "      <td>0.00</td>\n",
              "      <td>0.00</td>\n",
              "      <td>0.0</td>\n",
              "      <td>2020-11-10 15:18:50</td>\n",
              "    </tr>\n",
              "  </tbody>\n",
              "</table>\n",
              "<p>579773 rows × 4 columns</p>\n",
              "</div>\n",
              "      <button class=\"colab-df-convert\" onclick=\"convertToInteractive('df-f8ea81ed-e101-42f2-bf20-c8abf595bfbe')\"\n",
              "              title=\"Convert this dataframe to an interactive table.\"\n",
              "              style=\"display:none;\">\n",
              "        \n",
              "  <svg xmlns=\"http://www.w3.org/2000/svg\" height=\"24px\"viewBox=\"0 0 24 24\"\n",
              "       width=\"24px\">\n",
              "    <path d=\"M0 0h24v24H0V0z\" fill=\"none\"/>\n",
              "    <path d=\"M18.56 5.44l.94 2.06.94-2.06 2.06-.94-2.06-.94-.94-2.06-.94 2.06-2.06.94zm-11 1L8.5 8.5l.94-2.06 2.06-.94-2.06-.94L8.5 2.5l-.94 2.06-2.06.94zm10 10l.94 2.06.94-2.06 2.06-.94-2.06-.94-.94-2.06-.94 2.06-2.06.94z\"/><path d=\"M17.41 7.96l-1.37-1.37c-.4-.4-.92-.59-1.43-.59-.52 0-1.04.2-1.43.59L10.3 9.45l-7.72 7.72c-.78.78-.78 2.05 0 2.83L4 21.41c.39.39.9.59 1.41.59.51 0 1.02-.2 1.41-.59l7.78-7.78 2.81-2.81c.8-.78.8-2.07 0-2.86zM5.41 20L4 18.59l7.72-7.72 1.47 1.35L5.41 20z\"/>\n",
              "  </svg>\n",
              "      </button>\n",
              "      \n",
              "  <style>\n",
              "    .colab-df-container {\n",
              "      display:flex;\n",
              "      flex-wrap:wrap;\n",
              "      gap: 12px;\n",
              "    }\n",
              "\n",
              "    .colab-df-convert {\n",
              "      background-color: #E8F0FE;\n",
              "      border: none;\n",
              "      border-radius: 50%;\n",
              "      cursor: pointer;\n",
              "      display: none;\n",
              "      fill: #1967D2;\n",
              "      height: 32px;\n",
              "      padding: 0 0 0 0;\n",
              "      width: 32px;\n",
              "    }\n",
              "\n",
              "    .colab-df-convert:hover {\n",
              "      background-color: #E2EBFA;\n",
              "      box-shadow: 0px 1px 2px rgba(60, 64, 67, 0.3), 0px 1px 3px 1px rgba(60, 64, 67, 0.15);\n",
              "      fill: #174EA6;\n",
              "    }\n",
              "\n",
              "    [theme=dark] .colab-df-convert {\n",
              "      background-color: #3B4455;\n",
              "      fill: #D2E3FC;\n",
              "    }\n",
              "\n",
              "    [theme=dark] .colab-df-convert:hover {\n",
              "      background-color: #434B5C;\n",
              "      box-shadow: 0px 1px 3px 1px rgba(0, 0, 0, 0.15);\n",
              "      filter: drop-shadow(0px 1px 2px rgba(0, 0, 0, 0.3));\n",
              "      fill: #FFFFFF;\n",
              "    }\n",
              "  </style>\n",
              "\n",
              "      <script>\n",
              "        const buttonEl =\n",
              "          document.querySelector('#df-f8ea81ed-e101-42f2-bf20-c8abf595bfbe button.colab-df-convert');\n",
              "        buttonEl.style.display =\n",
              "          google.colab.kernel.accessAllowed ? 'block' : 'none';\n",
              "\n",
              "        async function convertToInteractive(key) {\n",
              "          const element = document.querySelector('#df-f8ea81ed-e101-42f2-bf20-c8abf595bfbe');\n",
              "          const dataTable =\n",
              "            await google.colab.kernel.invokeFunction('convertToInteractive',\n",
              "                                                     [key], {});\n",
              "          if (!dataTable) return;\n",
              "\n",
              "          const docLinkHtml = 'Like what you see? Visit the ' +\n",
              "            '<a target=\"_blank\" href=https://colab.research.google.com/notebooks/data_table.ipynb>data table notebook</a>'\n",
              "            + ' to learn more about interactive tables.';\n",
              "          element.innerHTML = '';\n",
              "          dataTable['output_type'] = 'display_data';\n",
              "          await google.colab.output.renderOutput(dataTable, element);\n",
              "          const docLink = document.createElement('div');\n",
              "          docLink.innerHTML = docLinkHtml;\n",
              "          element.appendChild(docLink);\n",
              "        }\n",
              "      </script>\n",
              "    </div>\n",
              "  </div>\n",
              "  "
            ]
          },
          "metadata": {},
          "execution_count": 39
        }
      ]
    },
    {
      "cell_type": "code",
      "source": [
        "df_1 = pd.concat([df, work_time], axis = 1)"
      ],
      "metadata": {
        "id": "iJfjiVPICKxq"
      },
      "execution_count": 40,
      "outputs": []
    },
    {
      "cell_type": "code",
      "source": [
        "df_1['target'] = df_1.Power.shift(-17280)"
      ],
      "metadata": {
        "id": "DbBimVKQCK0P"
      },
      "execution_count": 41,
      "outputs": []
    },
    {
      "cell_type": "code",
      "source": [
        "df_1 = df_1.dropna()"
      ],
      "metadata": {
        "id": "0fHGF8-aCK2u"
      },
      "execution_count": 42,
      "outputs": []
    },
    {
      "cell_type": "code",
      "source": [
        "df_1['Power_1'] = df_1.Power.shift(1)\n",
        "df_1['Power_2'] = df_1.Power.shift(2)\n",
        "df_1['Power_3'] = df_1.Power.shift(3)\n",
        "df_1['Power_4'] = df_1.Power.shift(4)\n",
        "df_1['Power_5'] = df_1.Power.shift(5)"
      ],
      "metadata": {
        "id": "qmpEFGMMCK53"
      },
      "execution_count": 43,
      "outputs": []
    },
    {
      "cell_type": "code",
      "source": [
        "plt.figure(figsize = (9, 7))\n",
        "corr = df_1.corr()\n",
        "sns.heatmap(corr, annot = True)"
      ],
      "metadata": {
        "colab": {
          "base_uri": "https://localhost:8080/",
          "height": 516
        },
        "id": "UiPoqlCOCK8d",
        "outputId": "c7daf7c4-7f5f-42a1-85a6-0514bab8d1da"
      },
      "execution_count": 16,
      "outputs": [
        {
          "output_type": "execute_result",
          "data": {
            "text/plain": [
              "<matplotlib.axes._subplots.AxesSubplot at 0x7fed437fcd30>"
            ]
          },
          "metadata": {},
          "execution_count": 16
        },
        {
          "output_type": "display_data",
          "data": {
            "text/plain": [
              "<Figure size 648x504 with 2 Axes>"
            ],
            "image/png": "[encoded data removed]"
          },
          "metadata": {
            "needs_background": "light"
          }
        }
      ]
    },
    {
      "cell_type": "code",
      "source": [
        "df_1[\"second\"] = df_1.DateTime.dt.second\n",
        "df_1[\"minute\"] = df_1.DateTime.dt.minute\n",
        "df_1[\"hour\"] = df_1.DateTime.dt.hour\n",
        "df_1[\"weekday\"] = df_1.DateTime.dt.weekday \n",
        "df_1[\"month\"] = df_1.DateTime.dt.month\n",
        "df_1[\"year\"] = df_1.DateTime.dt.year"
      ],
      "metadata": {
        "id": "AJZTj_V6CK-l"
      },
      "execution_count": 44,
      "outputs": []
    },
    {
      "cell_type": "code",
      "source": [
        "df_1 = df_1.dropna()"
      ],
      "metadata": {
        "id": "xLHYrF6iCLBE"
      },
      "execution_count": 45,
      "outputs": []
    },
    {
      "cell_type": "code",
      "source": [
        "df_1.to_csv('DATAFRAME')"
      ],
      "metadata": {
        "id": "1rpHnaJZCLDi"
      },
      "execution_count": 46,
      "outputs": []
    },
    {
      "cell_type": "code",
      "source": [
        "df_11 = df_1.drop(['DateTime'], axis = 1).copy()"
      ],
      "metadata": {
        "id": "YNDMZ1pTgh0w"
      },
      "execution_count": 47,
      "outputs": []
    },
    {
      "cell_type": "code",
      "source": [
        "X = df_1.drop(['target'], axis = 1)\n",
        "y = df_1.target"
      ],
      "metadata": {
        "id": "wvR8d9KWCLGE"
      },
      "execution_count": 25,
      "outputs": []
    },
    {
      "cell_type": "code",
      "source": [
        "from sklearn.model_selection import KFold, StratifiedKFold, cross_val_score\n",
        "from sklearn.model_selection import cross_val_predict"
      ],
      "metadata": {
        "id": "AqEIGf-qCLIx"
      },
      "execution_count": null,
      "outputs": []
    },
    {
      "cell_type": "code",
      "source": [
        "kf =KFold(n_splits=5, shuffle=True, random_state=42)\n",
        "\n",
        "cnt = 1\n",
        "# split()  method generate indices to split data into training and test set.\n",
        "for train_index, test_index in kf.split(X, y):\n",
        "    print(f'Fold:{cnt}, Train set: {len(train_index)}, Test set:{len(test_index)}')\n",
        "    cnt += 1"
      ],
      "metadata": {
        "colab": {
          "base_uri": "https://localhost:8080/"
        },
        "id": "4vgDPLttCLLM",
        "outputId": "379fa688-3444-4e75-cf3d-fceeb0b67e03"
      },
      "execution_count": 26,
      "outputs": [
        {
          "output_type": "stream",
          "name": "stdout",
          "text": [
            "Fold:1, Train set: 449990, Test set:112498\n",
            "Fold:2, Train set: 449990, Test set:112498\n",
            "Fold:3, Train set: 449990, Test set:112498\n",
            "Fold:4, Train set: 449991, Test set:112497\n",
            "Fold:5, Train set: 449991, Test set:112497\n"
          ]
        }
      ]
    },
    {
      "cell_type": "code",
      "source": [
        "from sklearn.model_selection import GridSearchCV\n",
        "xgb_model = XGBRegressor()\n",
        "\n",
        "parameters = {'booster':['gbtree'], \n",
        "              'colsample_bylevel': range(0, 1), \n",
        "              'colsample_bytree': range(0, 1), \n",
        "              'subsample':[0.8, 0.9],\n",
        "              'gamma':[0.0, 0.1],\n",
        "              'learning_fate':[0.1, 0.2, 0.3],\n",
        "              'max_depth': range(7, 11),\n",
        "              'n_estimators': range(4500, 5500, 2),\n",
        "              'n_jobs':[-1],\n",
        "              'seed':[555]}\n",
        "\n",
        "\n",
        "clf = GridSearchCV(estimator=xgb_model,\n",
        "                   param_grid=parameters,\n",
        "                   scoring = 'r2',\n",
        "                   cv = 5,\n",
        "                   verbose=True)\n",
        "\n",
        "clf.fit(X, y)\n",
        "clf.best_estimator_"
      ],
      "metadata": {
        "id": "ECadUNejCLN3"
      },
      "execution_count": null,
      "outputs": []
    },
    {
      "cell_type": "code",
      "source": [
        "estimator = XGBRegressor(booster = 'gbtree', \n",
        "                         colsample_bylevel = 0.5, \n",
        "                         colsample_bytree = 0.7, \n",
        "                         subsample=0.9,\n",
        "                         gamma = 0.1,\n",
        "                         learning_fate = 0.1,\n",
        "                         max_depth = 10,\n",
        "                         n_estimators = 6000,\n",
        "                         n_jobs = -1,\n",
        "                         seed= 555\n",
        "                         )\n",
        "predictions = cross_val_predict(estimator, X, y, cv= kf, verbose = 10)            # Вывод результатов прогноза\n",
        "predictions = pd.DataFrame({'predictions':predictions})"
      ],
      "metadata": {
        "colab": {
          "base_uri": "https://localhost:8080/"
        },
        "id": "T5VGy7teDJB1",
        "outputId": "555c0d49-028a-46b2-de0f-2f8383bf60a5"
      },
      "execution_count": 27,
      "outputs": [
        {
          "output_type": "stream",
          "name": "stderr",
          "text": [
            "[Parallel(n_jobs=1)]: Using backend SequentialBackend with 1 concurrent workers.\n"
          ]
        },
        {
          "output_type": "stream",
          "name": "stdout",
          "text": [
            "[01:32:00] WARNING: /workspace/src/objective/regression_obj.cu:152: reg:linear is now deprecated in favor of reg:squarederror.\n"
          ]
        },
        {
          "output_type": "stream",
          "name": "stderr",
          "text": [
            "[Parallel(n_jobs=1)]: Done   1 out of   1 | elapsed: 57.0min remaining:    0.0s\n"
          ]
        },
        {
          "output_type": "stream",
          "name": "stdout",
          "text": [
            "[02:29:01] WARNING: /workspace/src/objective/regression_obj.cu:152: reg:linear is now deprecated in favor of reg:squarederror.\n"
          ]
        },
        {
          "output_type": "stream",
          "name": "stderr",
          "text": [
            "[Parallel(n_jobs=1)]: Done   2 out of   2 | elapsed: 115.5min remaining:    0.0s\n"
          ]
        },
        {
          "output_type": "stream",
          "name": "stdout",
          "text": [
            "[03:27:33] WARNING: /workspace/src/objective/regression_obj.cu:152: reg:linear is now deprecated in favor of reg:squarederror.\n"
          ]
        },
        {
          "output_type": "stream",
          "name": "stderr",
          "text": [
            "[Parallel(n_jobs=1)]: Done   3 out of   3 | elapsed: 174.4min remaining:    0.0s\n"
          ]
        },
        {
          "output_type": "stream",
          "name": "stdout",
          "text": [
            "[04:26:24] WARNING: /workspace/src/objective/regression_obj.cu:152: reg:linear is now deprecated in favor of reg:squarederror.\n"
          ]
        },
        {
          "output_type": "stream",
          "name": "stderr",
          "text": [
            "[Parallel(n_jobs=1)]: Done   4 out of   4 | elapsed: 233.4min remaining:    0.0s\n"
          ]
        },
        {
          "output_type": "stream",
          "name": "stdout",
          "text": [
            "[05:25:25] WARNING: /workspace/src/objective/regression_obj.cu:152: reg:linear is now deprecated in favor of reg:squarederror.\n"
          ]
        },
        {
          "output_type": "stream",
          "name": "stderr",
          "text": [
            "[Parallel(n_jobs=1)]: Done   5 out of   5 | elapsed: 291.5min remaining:    0.0s\n",
            "[Parallel(n_jobs=1)]: Done   5 out of   5 | elapsed: 291.5min finished\n"
          ]
        }
      ]
    },
    {
      "cell_type": "code",
      "source": [
        "predictions['target'] = df_1['target']\n",
        "predictions['DateTime'] = df_1['DateTime']"
      ],
      "metadata": {
        "id": "xNT3Dvr9DJER"
      },
      "execution_count": 49,
      "outputs": []
    },
    {
      "cell_type": "code",
      "source": [
        "df_1 = df_1.dropna()\n",
        "predictions = predictions.dropna()"
      ],
      "metadata": {
        "id": "jub7mLTkrVql"
      },
      "execution_count": 76,
      "outputs": []
    },
    {
      "cell_type": "code",
      "source": [
        "predictions.index = predictions['DateTime']\n",
        "predictions = predictions.drop(['DateTime'], axis = 1)"
      ],
      "metadata": {
        "id": "lQQmTQ29DJG0"
      },
      "execution_count": 78,
      "outputs": []
    },
    {
      "cell_type": "code",
      "source": [
        "predictions_10_min = predictions[:141]"
      ],
      "metadata": {
        "id": "8Kd92IfVseof"
      },
      "execution_count": 79,
      "outputs": []
    },
    {
      "cell_type": "code",
      "source": [
        "plt.figure(figsize = (10, 6))\n",
        "sns.lineplot(data = df_1['predictions'], label = 'Прогнозируемые данные')\n",
        "sns.lineplot(data = df_1['target'], color = 'red', label = 'Реальные данные')\n",
        "plt.title('Сравнение за 10 минут работы', fontsize = 14)\n",
        "plt.xlabel('Время', fontsize = 14)\n",
        "plt.ylabel('Потребление электроэнергии', fontsize = 14)\n",
        "plt.legend()\n",
        "plt.show()"
      ],
      "metadata": {
        "colab": {
          "base_uri": "https://localhost:8080/",
          "height": 409
        },
        "id": "1pIouo9ODJJr",
        "outputId": "5faeafb3-37e8-4da9-ae9c-383df211993a"
      },
      "execution_count": 87,
      "outputs": [
        {
          "output_type": "display_data",
          "data": {
            "text/plain": [
              "<Figure size 720x432 with 1 Axes>"
            ],
            "image/png": "[encoded data removed]"
          },
          "metadata": {
            "needs_background": "light"
          }
        }
      ]
    },
    {
      "cell_type": "code",
      "source": [
        "#plt.figure(figsize = (500, 15))\n",
        "#sns.lineplot(data = df_1['pred'], label = 'Прогнозируемые данные')\n",
        "#sns.lineplot(data = df_1['target'], color = 'red', label = 'Реальные данные')"
      ],
      "metadata": {
        "id": "uofHVgFUDJMA"
      },
      "execution_count": 53,
      "outputs": []
    },
    {
      "cell_type": "code",
      "source": [
        "r_2 = round(predictions.corr().target[0], 3)**2"
      ],
      "metadata": {
        "id": "Z8fB_YqIDJPZ"
      },
      "execution_count": 96,
      "outputs": []
    },
    {
      "cell_type": "code",
      "source": [
        "print('Коэффицент детерминации модели = ', r_2)"
      ],
      "metadata": {
        "colab": {
          "base_uri": "https://localhost:8080/"
        },
        "id": "lqqb1ltnDJTy",
        "outputId": "cdfa2ac5-774a-4a25-9c99-c223449d5d40"
      },
      "execution_count": 99,
      "outputs": [
        {
          "output_type": "stream",
          "name": "stdout",
          "text": [
            "Коэффицент детерминации модели =  0.734449\n"
          ]
        }
      ]
    },
    {
      "cell_type": "code",
      "source": [],
      "metadata": {
        "id": "9-rb3Ue9DJWP"
      },
      "execution_count": null,
      "outputs": []
    },
    {
      "cell_type": "code",
      "source": [],
      "metadata": {
        "id": "DHsWX1eICLP-"
      },
      "execution_count": null,
      "outputs": []
    }
  ]
}