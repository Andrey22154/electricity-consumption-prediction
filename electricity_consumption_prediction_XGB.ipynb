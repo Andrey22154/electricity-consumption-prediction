{
  "cells": [
    {
      "cell_type": "markdown",
      "metadata": {
        "id": "view-in-github",
        "colab_type": "text"
      },
      "source": [
        "<a href=\"https://colab.research.google.com/github/Andrey22154/electricity-consumption-prediction/blob/main/electricity_consumption_prediction_XGB.ipynb\" target=\"_parent\"><img src=\"https://colab.research.google.com/assets/colab-badge.svg\" alt=\"Open In Colab\"/></a>"
      ]
    },
    {
      "cell_type": "code",
      "execution_count": 1,
      "metadata": {
        "id": "yjnZFnebB9mh"
      },
      "outputs": [],
      "source": [
        "import pandas as pd\n",
        "import plotly.graph_objects as go\n",
        "import matplotlib.pyplot as plt\n",
        "import numpy as np\n",
        "import seaborn as sns\n",
        "from sklearn.model_selection import KFold, StratifiedKFold, cross_val_score\n",
        "from sklearn.model_selection import cross_val_predict\n",
        "from xgboost import XGBRegressor\n",
        "from sklearn.metrics import mean_squared_error\n",
        "from math import sqrt"
      ]
    },
    {
      "cell_type": "code",
      "execution_count": 2,
      "metadata": {
        "id": "LiNz-6n5CKW3",
        "cellView": "code"
      },
      "outputs": [],
      "source": [
        "data = pd.read_excel('/content/mine_data.xlsx')"
      ]
    },
    {
      "cell_type": "code",
      "execution_count": 3,
      "metadata": {
        "colab": {
          "base_uri": "https://localhost:8080/",
          "height": 424
        },
        "id": "vny-ZrpeRK8K",
        "outputId": "fda67c58-d539-4ef3-de03-396a2ad1aae5"
      },
      "outputs": [
        {
          "output_type": "execute_result",
          "data": {
            "text/plain": [
              "        /DateTime/Power/Haulage_speed/Traffic_flow\n",
              "0             0/2020-09-11 00:00:00/458.11//2423.0\n",
              "1         1/2020-09-11 00:00:05/458.11/8.46/2440.0\n",
              "2         2/2020-09-11 00:00:10/458.11/8.45/2453.0\n",
              "3          3/2020-09-11 00:00:15/458.11/8.4/2463.0\n",
              "4         4/2020-09-11 00:00:20/484.66/9.01/2483.0\n",
              "...                                            ...\n",
              "1048570  1048570/2020-11-10 16:20:50/0.0/0.0/386.0\n",
              "1048571  1048571/2020-11-10 16:20:55/0.0/0.0/396.0\n",
              "1048572  1048572/2020-11-10 16:21:00/0.0/0.0/389.0\n",
              "1048573  1048573/2020-11-10 16:21:05/0.0/0.0/388.0\n",
              "1048574  1048574/2020-11-10 16:21:10/0.0/0.0/392.0\n",
              "\n",
              "[1048575 rows x 1 columns]"
            ],
            "text/html": [
              "\n",
              "  <div id=\"df-d5369c70-2483-45f3-811c-eb105d72dabc\">\n",
              "    <div class=\"colab-df-container\">\n",
              "      <div>\n",
              "<style scoped>\n",
              "    .dataframe tbody tr th:only-of-type {\n",
              "        vertical-align: middle;\n",
              "    }\n",
              "\n",
              "    .dataframe tbody tr th {\n",
              "        vertical-align: top;\n",
              "    }\n",
              "\n",
              "    .dataframe thead th {\n",
              "        text-align: right;\n",
              "    }\n",
              "</style>\n",
              "<table border=\"1\" class=\"dataframe\">\n",
              "  <thead>\n",
              "    <tr style=\"text-align: right;\">\n",
              "      <th></th>\n",
              "      <th>/DateTime/Power/Haulage_speed/Traffic_flow</th>\n",
              "    </tr>\n",
              "  </thead>\n",
              "  <tbody>\n",
              "    <tr>\n",
              "      <th>0</th>\n",
              "      <td>0/2020-09-11 00:00:00/458.11//2423.0</td>\n",
              "    </tr>\n",
              "    <tr>\n",
              "      <th>1</th>\n",
              "      <td>1/2020-09-11 00:00:05/458.11/8.46/2440.0</td>\n",
              "    </tr>\n",
              "    <tr>\n",
              "      <th>2</th>\n",
              "      <td>2/2020-09-11 00:00:10/458.11/8.45/2453.0</td>\n",
              "    </tr>\n",
              "    <tr>\n",
              "      <th>3</th>\n",
              "      <td>3/2020-09-11 00:00:15/458.11/8.4/2463.0</td>\n",
              "    </tr>\n",
              "    <tr>\n",
              "      <th>4</th>\n",
              "      <td>4/2020-09-11 00:00:20/484.66/9.01/2483.0</td>\n",
              "    </tr>\n",
              "    <tr>\n",
              "      <th>...</th>\n",
              "      <td>...</td>\n",
              "    </tr>\n",
              "    <tr>\n",
              "      <th>1048570</th>\n",
              "      <td>1048570/2020-11-10 16:20:50/0.0/0.0/386.0</td>\n",
              "    </tr>\n",
              "    <tr>\n",
              "      <th>1048571</th>\n",
              "      <td>1048571/2020-11-10 16:20:55/0.0/0.0/396.0</td>\n",
              "    </tr>\n",
              "    <tr>\n",
              "      <th>1048572</th>\n",
              "      <td>1048572/2020-11-10 16:21:00/0.0/0.0/389.0</td>\n",
              "    </tr>\n",
              "    <tr>\n",
              "      <th>1048573</th>\n",
              "      <td>1048573/2020-11-10 16:21:05/0.0/0.0/388.0</td>\n",
              "    </tr>\n",
              "    <tr>\n",
              "      <th>1048574</th>\n",
              "      <td>1048574/2020-11-10 16:21:10/0.0/0.0/392.0</td>\n",
              "    </tr>\n",
              "  </tbody>\n",
              "</table>\n",
              "<p>1048575 rows × 1 columns</p>\n",
              "</div>\n",
              "      <button class=\"colab-df-convert\" onclick=\"convertToInteractive('df-d5369c70-2483-45f3-811c-eb105d72dabc')\"\n",
              "              title=\"Convert this dataframe to an interactive table.\"\n",
              "              style=\"display:none;\">\n",
              "        \n",
              "  <svg xmlns=\"http://www.w3.org/2000/svg\" height=\"24px\"viewBox=\"0 0 24 24\"\n",
              "       width=\"24px\">\n",
              "    <path d=\"M0 0h24v24H0V0z\" fill=\"none\"/>\n",
              "    <path d=\"M18.56 5.44l.94 2.06.94-2.06 2.06-.94-2.06-.94-.94-2.06-.94 2.06-2.06.94zm-11 1L8.5 8.5l.94-2.06 2.06-.94-2.06-.94L8.5 2.5l-.94 2.06-2.06.94zm10 10l.94 2.06.94-2.06 2.06-.94-2.06-.94-.94-2.06-.94 2.06-2.06.94z\"/><path d=\"M17.41 7.96l-1.37-1.37c-.4-.4-.92-.59-1.43-.59-.52 0-1.04.2-1.43.59L10.3 9.45l-7.72 7.72c-.78.78-.78 2.05 0 2.83L4 21.41c.39.39.9.59 1.41.59.51 0 1.02-.2 1.41-.59l7.78-7.78 2.81-2.81c.8-.78.8-2.07 0-2.86zM5.41 20L4 18.59l7.72-7.72 1.47 1.35L5.41 20z\"/>\n",
              "  </svg>\n",
              "      </button>\n",
              "      \n",
              "  <style>\n",
              "    .colab-df-container {\n",
              "      display:flex;\n",
              "      flex-wrap:wrap;\n",
              "      gap: 12px;\n",
              "    }\n",
              "\n",
              "    .colab-df-convert {\n",
              "      background-color: #E8F0FE;\n",
              "      border: none;\n",
              "      border-radius: 50%;\n",
              "      cursor: pointer;\n",
              "      display: none;\n",
              "      fill: #1967D2;\n",
              "      height: 32px;\n",
              "      padding: 0 0 0 0;\n",
              "      width: 32px;\n",
              "    }\n",
              "\n",
              "    .colab-df-convert:hover {\n",
              "      background-color: #E2EBFA;\n",
              "      box-shadow: 0px 1px 2px rgba(60, 64, 67, 0.3), 0px 1px 3px 1px rgba(60, 64, 67, 0.15);\n",
              "      fill: #174EA6;\n",
              "    }\n",
              "\n",
              "    [theme=dark] .colab-df-convert {\n",
              "      background-color: #3B4455;\n",
              "      fill: #D2E3FC;\n",
              "    }\n",
              "\n",
              "    [theme=dark] .colab-df-convert:hover {\n",
              "      background-color: #434B5C;\n",
              "      box-shadow: 0px 1px 3px 1px rgba(0, 0, 0, 0.15);\n",
              "      filter: drop-shadow(0px 1px 2px rgba(0, 0, 0, 0.3));\n",
              "      fill: #FFFFFF;\n",
              "    }\n",
              "  </style>\n",
              "\n",
              "      <script>\n",
              "        const buttonEl =\n",
              "          document.querySelector('#df-d5369c70-2483-45f3-811c-eb105d72dabc button.colab-df-convert');\n",
              "        buttonEl.style.display =\n",
              "          google.colab.kernel.accessAllowed ? 'block' : 'none';\n",
              "\n",
              "        async function convertToInteractive(key) {\n",
              "          const element = document.querySelector('#df-d5369c70-2483-45f3-811c-eb105d72dabc');\n",
              "          const dataTable =\n",
              "            await google.colab.kernel.invokeFunction('convertToInteractive',\n",
              "                                                     [key], {});\n",
              "          if (!dataTable) return;\n",
              "\n",
              "          const docLinkHtml = 'Like what you see? Visit the ' +\n",
              "            '<a target=\"_blank\" href=https://colab.research.google.com/notebooks/data_table.ipynb>data table notebook</a>'\n",
              "            + ' to learn more about interactive tables.';\n",
              "          element.innerHTML = '';\n",
              "          dataTable['output_type'] = 'display_data';\n",
              "          await google.colab.output.renderOutput(dataTable, element);\n",
              "          const docLink = document.createElement('div');\n",
              "          docLink.innerHTML = docLinkHtml;\n",
              "          element.appendChild(docLink);\n",
              "        }\n",
              "      </script>\n",
              "    </div>\n",
              "  </div>\n",
              "  "
            ]
          },
          "metadata": {},
          "execution_count": 3
        }
      ],
      "source": [
        "data"
      ]
    },
    {
      "cell_type": "markdown",
      "metadata": {
        "id": "4wzXCnKLSNHz"
      },
      "source": [
        "Так как наши данные представляют из себя единый столбец, в котором происходит деление по \"/\", то необходимо разбить их по этим самым слэшам. "
      ]
    },
    {
      "cell_type": "code",
      "execution_count": 4,
      "metadata": {
        "id": "iVajGiRQCKZp"
      },
      "outputs": [],
      "source": [
        "data['DateTime'] = data['/DateTime/Power/Haulage_speed/Traffic_flow'].str.split('/').str.get(1)\n",
        "data['Power'] = data['/DateTime/Power/Haulage_speed/Traffic_flow'].str.split('/').str.get(2)\n",
        "data['Haulage_speed'] = data['/DateTime/Power/Haulage_speed/Traffic_flow'].str.split('/').str.get(3)\n",
        "data['Traffic_flow'] = data['/DateTime/Power/Haulage_speed/Traffic_flow'].str.split('/').str.get(4)\n",
        "data.drop(['/DateTime/Power/Haulage_speed/Traffic_flow'], axis = 1, inplace = True)"
      ]
    },
    {
      "cell_type": "code",
      "execution_count": 5,
      "metadata": {
        "colab": {
          "base_uri": "https://localhost:8080/",
          "height": 424
        },
        "id": "yXo-cnW2S3cJ",
        "outputId": "b03157ec-5f5f-422f-acf9-917ea504bd89"
      },
      "outputs": [
        {
          "output_type": "execute_result",
          "data": {
            "text/plain": [
              "                    DateTime   Power Haulage_speed Traffic_flow\n",
              "0        2020-09-11 00:00:00  458.11                     2423.0\n",
              "1        2020-09-11 00:00:05  458.11          8.46       2440.0\n",
              "2        2020-09-11 00:00:10  458.11          8.45       2453.0\n",
              "3        2020-09-11 00:00:15  458.11           8.4       2463.0\n",
              "4        2020-09-11 00:00:20  484.66          9.01       2483.0\n",
              "...                      ...     ...           ...          ...\n",
              "1048570  2020-11-10 16:20:50     0.0           0.0        386.0\n",
              "1048571  2020-11-10 16:20:55     0.0           0.0        396.0\n",
              "1048572  2020-11-10 16:21:00     0.0           0.0        389.0\n",
              "1048573  2020-11-10 16:21:05     0.0           0.0        388.0\n",
              "1048574  2020-11-10 16:21:10     0.0           0.0        392.0\n",
              "\n",
              "[1048575 rows x 4 columns]"
            ],
            "text/html": [
              "\n",
              "  <div id=\"df-42595f5c-fcd3-4efe-9338-01eb64160548\">\n",
              "    <div class=\"colab-df-container\">\n",
              "      <div>\n",
              "<style scoped>\n",
              "    .dataframe tbody tr th:only-of-type {\n",
              "        vertical-align: middle;\n",
              "    }\n",
              "\n",
              "    .dataframe tbody tr th {\n",
              "        vertical-align: top;\n",
              "    }\n",
              "\n",
              "    .dataframe thead th {\n",
              "        text-align: right;\n",
              "    }\n",
              "</style>\n",
              "<table border=\"1\" class=\"dataframe\">\n",
              "  <thead>\n",
              "    <tr style=\"text-align: right;\">\n",
              "      <th></th>\n",
              "      <th>DateTime</th>\n",
              "      <th>Power</th>\n",
              "      <th>Haulage_speed</th>\n",
              "      <th>Traffic_flow</th>\n",
              "    </tr>\n",
              "  </thead>\n",
              "  <tbody>\n",
              "    <tr>\n",
              "      <th>0</th>\n",
              "      <td>2020-09-11 00:00:00</td>\n",
              "      <td>458.11</td>\n",
              "      <td></td>\n",
              "      <td>2423.0</td>\n",
              "    </tr>\n",
              "    <tr>\n",
              "      <th>1</th>\n",
              "      <td>2020-09-11 00:00:05</td>\n",
              "      <td>458.11</td>\n",
              "      <td>8.46</td>\n",
              "      <td>2440.0</td>\n",
              "    </tr>\n",
              "    <tr>\n",
              "      <th>2</th>\n",
              "      <td>2020-09-11 00:00:10</td>\n",
              "      <td>458.11</td>\n",
              "      <td>8.45</td>\n",
              "      <td>2453.0</td>\n",
              "    </tr>\n",
              "    <tr>\n",
              "      <th>3</th>\n",
              "      <td>2020-09-11 00:00:15</td>\n",
              "      <td>458.11</td>\n",
              "      <td>8.4</td>\n",
              "      <td>2463.0</td>\n",
              "    </tr>\n",
              "    <tr>\n",
              "      <th>4</th>\n",
              "      <td>2020-09-11 00:00:20</td>\n",
              "      <td>484.66</td>\n",
              "      <td>9.01</td>\n",
              "      <td>2483.0</td>\n",
              "    </tr>\n",
              "    <tr>\n",
              "      <th>...</th>\n",
              "      <td>...</td>\n",
              "      <td>...</td>\n",
              "      <td>...</td>\n",
              "      <td>...</td>\n",
              "    </tr>\n",
              "    <tr>\n",
              "      <th>1048570</th>\n",
              "      <td>2020-11-10 16:20:50</td>\n",
              "      <td>0.0</td>\n",
              "      <td>0.0</td>\n",
              "      <td>386.0</td>\n",
              "    </tr>\n",
              "    <tr>\n",
              "      <th>1048571</th>\n",
              "      <td>2020-11-10 16:20:55</td>\n",
              "      <td>0.0</td>\n",
              "      <td>0.0</td>\n",
              "      <td>396.0</td>\n",
              "    </tr>\n",
              "    <tr>\n",
              "      <th>1048572</th>\n",
              "      <td>2020-11-10 16:21:00</td>\n",
              "      <td>0.0</td>\n",
              "      <td>0.0</td>\n",
              "      <td>389.0</td>\n",
              "    </tr>\n",
              "    <tr>\n",
              "      <th>1048573</th>\n",
              "      <td>2020-11-10 16:21:05</td>\n",
              "      <td>0.0</td>\n",
              "      <td>0.0</td>\n",
              "      <td>388.0</td>\n",
              "    </tr>\n",
              "    <tr>\n",
              "      <th>1048574</th>\n",
              "      <td>2020-11-10 16:21:10</td>\n",
              "      <td>0.0</td>\n",
              "      <td>0.0</td>\n",
              "      <td>392.0</td>\n",
              "    </tr>\n",
              "  </tbody>\n",
              "</table>\n",
              "<p>1048575 rows × 4 columns</p>\n",
              "</div>\n",
              "      <button class=\"colab-df-convert\" onclick=\"convertToInteractive('df-42595f5c-fcd3-4efe-9338-01eb64160548')\"\n",
              "              title=\"Convert this dataframe to an interactive table.\"\n",
              "              style=\"display:none;\">\n",
              "        \n",
              "  <svg xmlns=\"http://www.w3.org/2000/svg\" height=\"24px\"viewBox=\"0 0 24 24\"\n",
              "       width=\"24px\">\n",
              "    <path d=\"M0 0h24v24H0V0z\" fill=\"none\"/>\n",
              "    <path d=\"M18.56 5.44l.94 2.06.94-2.06 2.06-.94-2.06-.94-.94-2.06-.94 2.06-2.06.94zm-11 1L8.5 8.5l.94-2.06 2.06-.94-2.06-.94L8.5 2.5l-.94 2.06-2.06.94zm10 10l.94 2.06.94-2.06 2.06-.94-2.06-.94-.94-2.06-.94 2.06-2.06.94z\"/><path d=\"M17.41 7.96l-1.37-1.37c-.4-.4-.92-.59-1.43-.59-.52 0-1.04.2-1.43.59L10.3 9.45l-7.72 7.72c-.78.78-.78 2.05 0 2.83L4 21.41c.39.39.9.59 1.41.59.51 0 1.02-.2 1.41-.59l7.78-7.78 2.81-2.81c.8-.78.8-2.07 0-2.86zM5.41 20L4 18.59l7.72-7.72 1.47 1.35L5.41 20z\"/>\n",
              "  </svg>\n",
              "      </button>\n",
              "      \n",
              "  <style>\n",
              "    .colab-df-container {\n",
              "      display:flex;\n",
              "      flex-wrap:wrap;\n",
              "      gap: 12px;\n",
              "    }\n",
              "\n",
              "    .colab-df-convert {\n",
              "      background-color: #E8F0FE;\n",
              "      border: none;\n",
              "      border-radius: 50%;\n",
              "      cursor: pointer;\n",
              "      display: none;\n",
              "      fill: #1967D2;\n",
              "      height: 32px;\n",
              "      padding: 0 0 0 0;\n",
              "      width: 32px;\n",
              "    }\n",
              "\n",
              "    .colab-df-convert:hover {\n",
              "      background-color: #E2EBFA;\n",
              "      box-shadow: 0px 1px 2px rgba(60, 64, 67, 0.3), 0px 1px 3px 1px rgba(60, 64, 67, 0.15);\n",
              "      fill: #174EA6;\n",
              "    }\n",
              "\n",
              "    [theme=dark] .colab-df-convert {\n",
              "      background-color: #3B4455;\n",
              "      fill: #D2E3FC;\n",
              "    }\n",
              "\n",
              "    [theme=dark] .colab-df-convert:hover {\n",
              "      background-color: #434B5C;\n",
              "      box-shadow: 0px 1px 3px 1px rgba(0, 0, 0, 0.15);\n",
              "      filter: drop-shadow(0px 1px 2px rgba(0, 0, 0, 0.3));\n",
              "      fill: #FFFFFF;\n",
              "    }\n",
              "  </style>\n",
              "\n",
              "      <script>\n",
              "        const buttonEl =\n",
              "          document.querySelector('#df-42595f5c-fcd3-4efe-9338-01eb64160548 button.colab-df-convert');\n",
              "        buttonEl.style.display =\n",
              "          google.colab.kernel.accessAllowed ? 'block' : 'none';\n",
              "\n",
              "        async function convertToInteractive(key) {\n",
              "          const element = document.querySelector('#df-42595f5c-fcd3-4efe-9338-01eb64160548');\n",
              "          const dataTable =\n",
              "            await google.colab.kernel.invokeFunction('convertToInteractive',\n",
              "                                                     [key], {});\n",
              "          if (!dataTable) return;\n",
              "\n",
              "          const docLinkHtml = 'Like what you see? Visit the ' +\n",
              "            '<a target=\"_blank\" href=https://colab.research.google.com/notebooks/data_table.ipynb>data table notebook</a>'\n",
              "            + ' to learn more about interactive tables.';\n",
              "          element.innerHTML = '';\n",
              "          dataTable['output_type'] = 'display_data';\n",
              "          await google.colab.output.renderOutput(dataTable, element);\n",
              "          const docLink = document.createElement('div');\n",
              "          docLink.innerHTML = docLinkHtml;\n",
              "          element.appendChild(docLink);\n",
              "        }\n",
              "      </script>\n",
              "    </div>\n",
              "  </div>\n",
              "  "
            ]
          },
          "metadata": {},
          "execution_count": 5
        }
      ],
      "source": [
        "data"
      ]
    },
    {
      "cell_type": "markdown",
      "metadata": {
        "id": "1v6jsUr3THsJ"
      },
      "source": [
        "Данные разделены. Теперь следует проверить на наличие проущенных значений.\n",
        "Видно, что в признаке \"Haulage_speed\" первое значение отсутствует. Его заменим следующим. "
      ]
    },
    {
      "cell_type": "code",
      "execution_count": 6,
      "metadata": {
        "colab": {
          "base_uri": "https://localhost:8080/"
        },
        "id": "A6g_NCPtTKY3",
        "outputId": "0a7113c5-3ac0-4730-ba27-c3c6808afafc"
      },
      "outputs": [
        {
          "output_type": "execute_result",
          "data": {
            "text/plain": [
              "DateTime         0\n",
              "Power            0\n",
              "Haulage_speed    0\n",
              "Traffic_flow     0\n",
              "dtype: int64"
            ]
          },
          "metadata": {},
          "execution_count": 6
        }
      ],
      "source": [
        "data.isna().sum()"
      ]
    },
    {
      "cell_type": "code",
      "execution_count": 7,
      "metadata": {
        "id": "5Sa0hy2ETUX2"
      },
      "outputs": [],
      "source": [
        "'''Замена первого пропуска'''\n",
        "\n",
        "data['Haulage_speed'][0] = data['Haulage_speed'][1]"
      ]
    },
    {
      "cell_type": "code",
      "execution_count": 8,
      "metadata": {
        "id": "FCN0fgOPCKfa"
      },
      "outputs": [],
      "source": [
        "'''Приводим к нужным типам данных'''\n",
        "\n",
        "data['DateTime'] = data['DateTime'].apply(np.datetime64)\n",
        "data['Power'] = data['Power'].apply(np.float64)\n",
        "data['Traffic_flow'] = data['Traffic_flow'].apply(np.float64)\n",
        "data['Haulage_speed'] = data['Haulage_speed'].apply(np.float64)"
      ]
    },
    {
      "cell_type": "code",
      "execution_count": 14,
      "metadata": {
        "id": "My_D3doWcYWU"
      },
      "outputs": [],
      "source": [
        "'''Выделяем 3 смены за первый день работы, чтобы вывести графики'''\n",
        "\n",
        "first_change = data.query(\"'2020-09-11 00:00:00' <= DateTime < '2020-09-11 09:00:00'\")\n",
        "second_change = data.query(\"'2020-09-11 09:00:00' <= DateTime < '2020-09-11 17:00:00'\")\n",
        "third_change = data.query(\"'2020-09-11 17:00:00' <= DateTime < '2020-09-11 23:59:59'\")"
      ]
    },
    {
      "cell_type": "code",
      "source": [
        "first_change.index = first_change['DateTime']\n",
        "second_change.index = second_change['DateTime']\n",
        "third_change.index = third_change['DateTime'] "
      ],
      "metadata": {
        "id": "VtHb9AjARJ6W"
      },
      "execution_count": 39,
      "outputs": []
    },
    {
      "cell_type": "code",
      "source": [
        "lst_one_day = [first_change, second_change, third_change]\n",
        "\n",
        "for elem in lst_one_day:\n",
        "  plt.figure(figsize = (12, 7))\n",
        "  sns.lineplot(data = elem, x = elem.index, y = 'Power', color='#FF66FF', label = 'Power')\n",
        "  plt.title('Сравнение параметров за первые три смены', fontsize = 16)\n",
        "  plt.xlabel('Time', fontsize = 14)\n",
        "  plt.ylabel('Values', fontsize = 14)\n",
        "  sns.lineplot(data = elem, x = elem.index, y = 'Haulage_speed', color='#009900', label = 'Haulage_speed')\n",
        "  plt.xlabel('Time', fontsize = 14)\n",
        "  plt.ylabel('Values', fontsize = 14)\n",
        "  sns.lineplot(data = elem, x = elem.index, y = 'Traffic_flow', color='#5346ff', label = 'Traffic_flow')\n",
        "  plt.xlabel('Time', fontsize = 14)\n",
        "  plt.ylabel('Values', fontsize = 14)\n",
        "  plt.show()"
      ],
      "metadata": {
        "colab": {
          "base_uri": "https://localhost:8080/",
          "height": 1000
        },
        "id": "Qe5oJBJeQUVZ",
        "outputId": "fab9ea5d-e719-4e5c-e2ba-062affa6f92f"
      },
      "execution_count": 43,
      "outputs": [
        {
          "output_type": "display_data",
          "data": {
            "text/plain": [
              "<Figure size 864x504 with 1 Axes>"
            ],
            "image/png": "[encoded data removed]"
          },
          "metadata": {
            "needs_background": "light"
          }
        },
        {
          "output_type": "display_data",
          "data": {
            "text/plain": [
              "<Figure size 864x504 with 1 Axes>"
            ],
            "image/png": "[encoded data removed]"
          },
          "metadata": {
            "needs_background": "light"
          }
        },
        {
          "output_type": "display_data",
          "data": {
            "text/plain": [
              "<Figure size 864x504 with 1 Axes>"
            ],
            "image/png": "[encoded data removed]"
          },
          "metadata": {
            "needs_background": "light"
          }
        }
      ]
    },
    {
      "cell_type": "code",
      "execution_count": 10,
      "metadata": {
        "id": "lUVy6-wXdlQC"
      },
      "outputs": [],
      "source": [
        "# Смена 1\n",
        "#fig = go.Figure()\n",
        "#fig.add_trace(go.Scatter(x=first_change[\"DateTime\"], y=first_change[\"Power\"], mode = 'lines+markers', name='Мощность',\n",
        "#                         line = dict(color='#FF66FF', width=2)))\n",
        "#fig.add_trace(go.Scatter(x=first_change[\"DateTime\"], y=first_change[\"Haulage_speed\"], mode = 'lines+markers', name='Скорость',\n",
        "#                         line = dict(color='#009900', width=2)))\n",
        "#fig.add_trace(go.Scatter(x=first_change[\"DateTime\"], y=first_change[\"Traffic_flow\"], mode = 'lines+markers', name='Грузопереток',\n",
        "#                         line = dict(color='#5346ff', width=2)))\n",
        "#fig.show()\n",
        "# Смена 2\n",
        "#fig = go.Figure()\n",
        "#fig.add_trace(go.Scatter(x=second_change[\"DateTime\"], y=second_change[\"Power\"], mode = 'lines+markers', name='Мощность',\n",
        "#                         line = dict(color='#FF66FF', width=2)))\n",
        "#fig.add_trace(go.Scatter(x=second_change[\"DateTime\"], y=second_change[\"Haulage_speed\"], mode = 'lines+markers', name='Скорость',\n",
        "#                         line = dict(color='#009900', width=2)))\n",
        "#fig.add_trace(go.Scatter(x=second_change[\"DateTime\"], y=second_change[\"Traffic_flow\"], mode = 'lines+markers', name='Грузопереток',\n",
        "#                         line = dict(color='#5346ff', width=2)))\n",
        "#fig.show()\n",
        "# Смена 3\n",
        "#fig = go.Figure()\n",
        "#fig.add_trace(go.Scatter(x=third_change[\"DateTime\"], y=third_change[\"Power\"], mode = 'lines+markers', name='Мощность',\n",
        "#                         line = dict(color='#FF66FF', width=2)))\n",
        "#fig.add_trace(go.Scatter(x=third_change[\"DateTime\"], y=third_change[\"Haulage_speed\"], mode = 'lines+markers', name='Скорость',\n",
        "#                         line = dict(color='#009900', width=2)))\n",
        "#fig.add_trace(go.Scatter(x=third_change[\"DateTime\"], y=third_change[\"Traffic_flow\"], mode = 'lines+markers', name='Грузопереток',\n",
        "#                         line = dict(color='#5346ff', width=2)))\n",
        "#fig.show()"
      ]
    },
    {
      "cell_type": "markdown",
      "metadata": {
        "id": "kzcaiyeLeqgY"
      },
      "source": [
        "Как видно из графика, есть аномальные данные, то есть данные, которых быть не может. Например наличие мощности при отсутствии скорости. Такие данные нужно удалить.\n",
        "Необходмо сохранить дату в отдельную переменную, так как при удалении аномалий, все строки удалятся. Чтобы избежать разрывов, будем подставлять целый временной ряд. В нашем случае, зависимости переменных от времени нет - очистной комбайн одинаково может как работать, так и не работать в любую смену, поэтому любая \"перестановка\" данных в любой момент времени являетя нормой "
      ]
    },
    {
      "cell_type": "code",
      "execution_count": null,
      "metadata": {
        "id": "C1W79a1OCKh_"
      },
      "outputs": [],
      "source": [
        "data_time = data['DateTime']\n",
        "\n",
        "'''Удаляем по индексу'''\n",
        "\n",
        "dd_1 = data.query(\"Haulage_speed == 0 & Power > 0 or Haulage_speed == 0 & Traffic_flow != 0\")\n",
        "data = data.drop(index = dd_1.index)"
      ]
    },
    {
      "cell_type": "code",
      "execution_count": null,
      "metadata": {
        "id": "ZfISy8oGf18a"
      },
      "outputs": [],
      "source": [
        "data['DateTime'] = data_time\n",
        "data = data.dropna()"
      ]
    },
    {
      "cell_type": "code",
      "execution_count": null,
      "metadata": {
        "id": "2-FbkhL6injI"
      },
      "outputs": [],
      "source": [
        "#data.index = range(0, 575237)\n",
        "data = data[data['Power'] < 750]\n",
        "#data.index = range(0, 575211)"
      ]
    },
    {
      "cell_type": "code",
      "execution_count": null,
      "metadata": {
        "id": "YM8B7FLWjSx0"
      },
      "outputs": [],
      "source": [
        "data.index = range(0, 575211)"
      ]
    },
    {
      "cell_type": "code",
      "execution_count": null,
      "metadata": {
        "id": "0i7t36ZOCKm7"
      },
      "outputs": [],
      "source": [
        "data.index = data.DateTime\n",
        "data = data.drop(['DateTime'], axis = 1)\n",
        "Working_Shift_1 = data.between_time('09:00:00', '16:59:59') # Смена 1\n",
        "Working_Shift_2 = data.between_time('17:00:00', '00:59:59') # Смена 2\n",
        "Working_Shift_3 = data.between_time('01:00:00', '08:59:59') # Смена 3"
      ]
    },
    {
      "cell_type": "code",
      "execution_count": null,
      "metadata": {
        "id": "aHuqNFzLsbxt"
      },
      "outputs": [],
      "source": [
        "data['DateTime'] = data.index"
      ]
    },
    {
      "cell_type": "code",
      "execution_count": null,
      "metadata": {
        "id": "NW2YhEi97VnT"
      },
      "outputs": [],
      "source": [
        "Working_Shift_1['work_time'] = 1\n",
        "Working_Shift_2['work_time'] = 2\n",
        "Working_Shift_3['work_time'] = 3"
      ]
    },
    {
      "cell_type": "code",
      "execution_count": null,
      "metadata": {
        "id": "hMzhVMuG77YC"
      },
      "outputs": [],
      "source": [
        "df = pd.concat([Working_Shift_1, Working_Shift_2, Working_Shift_3], axis = 0).sort_values('DateTime')"
      ]
    },
    {
      "cell_type": "code",
      "execution_count": null,
      "metadata": {
        "id": "DbBimVKQCK0P"
      },
      "outputs": [],
      "source": [
        "df['target'] = df.Power.shift(-17280)\n",
        "df = df.dropna()"
      ]
    },
    {
      "cell_type": "markdown",
      "source": [
        "Добавляем переменные с лагом, т.е. делаем несколько раз смещение временного ряда, чтобы учесть авторегрессионную компоненту. "
      ],
      "metadata": {
        "id": "n3xZTwpoXk6q"
      }
    },
    {
      "cell_type": "code",
      "execution_count": null,
      "metadata": {
        "id": "qmpEFGMMCK53"
      },
      "outputs": [],
      "source": [
        "df['Power_1'] = df.Power.shift(1)\n",
        "df['Power_2'] = df.Power.shift(2)\n",
        "df['Power_3'] = df.Power.shift(3)\n",
        "df['Power_4'] = df.Power.shift(4)\n",
        "df['Power_5'] = df.Power.shift(5)"
      ]
    },
    {
      "cell_type": "code",
      "execution_count": null,
      "metadata": {
        "colab": {
          "base_uri": "https://localhost:8080/",
          "height": 455
        },
        "id": "jt-NEYv8IFfC",
        "outputId": "353b8780-c474-4b25-a96e-2c7422956130"
      },
      "outputs": [
        {
          "data": {
            "text/html": [
              "\n",
              "  <div id=\"df-f1af74d7-cf19-42be-80a6-b987a7a7c0d9\">\n",
              "    <div class=\"colab-df-container\">\n",
              "      <div>\n",
              "<style scoped>\n",
              "    .dataframe tbody tr th:only-of-type {\n",
              "        vertical-align: middle;\n",
              "    }\n",
              "\n",
              "    .dataframe tbody tr th {\n",
              "        vertical-align: top;\n",
              "    }\n",
              "\n",
              "    .dataframe thead th {\n",
              "        text-align: right;\n",
              "    }\n",
              "</style>\n",
              "<table border=\"1\" class=\"dataframe\">\n",
              "  <thead>\n",
              "    <tr style=\"text-align: right;\">\n",
              "      <th></th>\n",
              "      <th>Power</th>\n",
              "      <th>Haulage_speed</th>\n",
              "      <th>Traffic_flow</th>\n",
              "      <th>work_time</th>\n",
              "      <th>target</th>\n",
              "      <th>Power_1</th>\n",
              "      <th>Power_2</th>\n",
              "      <th>Power_3</th>\n",
              "      <th>Power_4</th>\n",
              "      <th>Power_5</th>\n",
              "    </tr>\n",
              "    <tr>\n",
              "      <th>DateTime</th>\n",
              "      <th></th>\n",
              "      <th></th>\n",
              "      <th></th>\n",
              "      <th></th>\n",
              "      <th></th>\n",
              "      <th></th>\n",
              "      <th></th>\n",
              "      <th></th>\n",
              "      <th></th>\n",
              "      <th></th>\n",
              "    </tr>\n",
              "  </thead>\n",
              "  <tbody>\n",
              "    <tr>\n",
              "      <th>2020-09-11 00:00:00</th>\n",
              "      <td>458.11</td>\n",
              "      <td>8.46</td>\n",
              "      <td>2423.0</td>\n",
              "      <td>2</td>\n",
              "      <td>268.92</td>\n",
              "      <td>NaN</td>\n",
              "      <td>NaN</td>\n",
              "      <td>NaN</td>\n",
              "      <td>NaN</td>\n",
              "      <td>NaN</td>\n",
              "    </tr>\n",
              "    <tr>\n",
              "      <th>2020-09-11 00:00:05</th>\n",
              "      <td>458.11</td>\n",
              "      <td>8.46</td>\n",
              "      <td>2440.0</td>\n",
              "      <td>2</td>\n",
              "      <td>246.95</td>\n",
              "      <td>458.11</td>\n",
              "      <td>NaN</td>\n",
              "      <td>NaN</td>\n",
              "      <td>NaN</td>\n",
              "      <td>NaN</td>\n",
              "    </tr>\n",
              "    <tr>\n",
              "      <th>2020-09-11 00:00:10</th>\n",
              "      <td>458.11</td>\n",
              "      <td>8.45</td>\n",
              "      <td>2453.0</td>\n",
              "      <td>2</td>\n",
              "      <td>246.95</td>\n",
              "      <td>458.11</td>\n",
              "      <td>458.11</td>\n",
              "      <td>NaN</td>\n",
              "      <td>NaN</td>\n",
              "      <td>NaN</td>\n",
              "    </tr>\n",
              "    <tr>\n",
              "      <th>2020-09-11 00:00:15</th>\n",
              "      <td>458.11</td>\n",
              "      <td>8.40</td>\n",
              "      <td>2463.0</td>\n",
              "      <td>2</td>\n",
              "      <td>246.95</td>\n",
              "      <td>458.11</td>\n",
              "      <td>458.11</td>\n",
              "      <td>458.11</td>\n",
              "      <td>NaN</td>\n",
              "      <td>NaN</td>\n",
              "    </tr>\n",
              "    <tr>\n",
              "      <th>2020-09-11 00:00:20</th>\n",
              "      <td>484.66</td>\n",
              "      <td>9.01</td>\n",
              "      <td>2483.0</td>\n",
              "      <td>2</td>\n",
              "      <td>246.95</td>\n",
              "      <td>458.11</td>\n",
              "      <td>458.11</td>\n",
              "      <td>458.11</td>\n",
              "      <td>458.11</td>\n",
              "      <td>NaN</td>\n",
              "    </tr>\n",
              "    <tr>\n",
              "      <th>...</th>\n",
              "      <td>...</td>\n",
              "      <td>...</td>\n",
              "      <td>...</td>\n",
              "      <td>...</td>\n",
              "      <td>...</td>\n",
              "      <td>...</td>\n",
              "      <td>...</td>\n",
              "      <td>...</td>\n",
              "      <td>...</td>\n",
              "      <td>...</td>\n",
              "    </tr>\n",
              "    <tr>\n",
              "      <th>2020-11-06 05:16:25</th>\n",
              "      <td>140.16</td>\n",
              "      <td>9.43</td>\n",
              "      <td>367.0</td>\n",
              "      <td>3</td>\n",
              "      <td>0.00</td>\n",
              "      <td>140.16</td>\n",
              "      <td>141.18</td>\n",
              "      <td>141.18</td>\n",
              "      <td>141.18</td>\n",
              "      <td>141.18</td>\n",
              "    </tr>\n",
              "    <tr>\n",
              "      <th>2020-11-06 05:16:30</th>\n",
              "      <td>140.16</td>\n",
              "      <td>5.75</td>\n",
              "      <td>360.0</td>\n",
              "      <td>3</td>\n",
              "      <td>0.00</td>\n",
              "      <td>140.16</td>\n",
              "      <td>140.16</td>\n",
              "      <td>141.18</td>\n",
              "      <td>141.18</td>\n",
              "      <td>141.18</td>\n",
              "    </tr>\n",
              "    <tr>\n",
              "      <th>2020-11-06 05:16:35</th>\n",
              "      <td>145.93</td>\n",
              "      <td>13.65</td>\n",
              "      <td>356.0</td>\n",
              "      <td>3</td>\n",
              "      <td>0.00</td>\n",
              "      <td>140.16</td>\n",
              "      <td>140.16</td>\n",
              "      <td>140.16</td>\n",
              "      <td>141.18</td>\n",
              "      <td>141.18</td>\n",
              "    </tr>\n",
              "    <tr>\n",
              "      <th>2020-11-06 05:16:40</th>\n",
              "      <td>145.93</td>\n",
              "      <td>13.35</td>\n",
              "      <td>347.0</td>\n",
              "      <td>3</td>\n",
              "      <td>0.00</td>\n",
              "      <td>145.93</td>\n",
              "      <td>140.16</td>\n",
              "      <td>140.16</td>\n",
              "      <td>140.16</td>\n",
              "      <td>141.18</td>\n",
              "    </tr>\n",
              "    <tr>\n",
              "      <th>2020-11-06 05:16:45</th>\n",
              "      <td>145.93</td>\n",
              "      <td>13.57</td>\n",
              "      <td>346.0</td>\n",
              "      <td>3</td>\n",
              "      <td>0.00</td>\n",
              "      <td>145.93</td>\n",
              "      <td>145.93</td>\n",
              "      <td>140.16</td>\n",
              "      <td>140.16</td>\n",
              "      <td>140.16</td>\n",
              "    </tr>\n",
              "  </tbody>\n",
              "</table>\n",
              "<p>557931 rows × 10 columns</p>\n",
              "</div>\n",
              "      <button class=\"colab-df-convert\" onclick=\"convertToInteractive('df-f1af74d7-cf19-42be-80a6-b987a7a7c0d9')\"\n",
              "              title=\"Convert this dataframe to an interactive table.\"\n",
              "              style=\"display:none;\">\n",
              "        \n",
              "  <svg xmlns=\"http://www.w3.org/2000/svg\" height=\"24px\"viewBox=\"0 0 24 24\"\n",
              "       width=\"24px\">\n",
              "    <path d=\"M0 0h24v24H0V0z\" fill=\"none\"/>\n",
              "    <path d=\"M18.56 5.44l.94 2.06.94-2.06 2.06-.94-2.06-.94-.94-2.06-.94 2.06-2.06.94zm-11 1L8.5 8.5l.94-2.06 2.06-.94-2.06-.94L8.5 2.5l-.94 2.06-2.06.94zm10 10l.94 2.06.94-2.06 2.06-.94-2.06-.94-.94-2.06-.94 2.06-2.06.94z\"/><path d=\"M17.41 7.96l-1.37-1.37c-.4-.4-.92-.59-1.43-.59-.52 0-1.04.2-1.43.59L10.3 9.45l-7.72 7.72c-.78.78-.78 2.05 0 2.83L4 21.41c.39.39.9.59 1.41.59.51 0 1.02-.2 1.41-.59l7.78-7.78 2.81-2.81c.8-.78.8-2.07 0-2.86zM5.41 20L4 18.59l7.72-7.72 1.47 1.35L5.41 20z\"/>\n",
              "  </svg>\n",
              "      </button>\n",
              "      \n",
              "  <style>\n",
              "    .colab-df-container {\n",
              "      display:flex;\n",
              "      flex-wrap:wrap;\n",
              "      gap: 12px;\n",
              "    }\n",
              "\n",
              "    .colab-df-convert {\n",
              "      background-color: #E8F0FE;\n",
              "      border: none;\n",
              "      border-radius: 50%;\n",
              "      cursor: pointer;\n",
              "      display: none;\n",
              "      fill: #1967D2;\n",
              "      height: 32px;\n",
              "      padding: 0 0 0 0;\n",
              "      width: 32px;\n",
              "    }\n",
              "\n",
              "    .colab-df-convert:hover {\n",
              "      background-color: #E2EBFA;\n",
              "      box-shadow: 0px 1px 2px rgba(60, 64, 67, 0.3), 0px 1px 3px 1px rgba(60, 64, 67, 0.15);\n",
              "      fill: #174EA6;\n",
              "    }\n",
              "\n",
              "    [theme=dark] .colab-df-convert {\n",
              "      background-color: #3B4455;\n",
              "      fill: #D2E3FC;\n",
              "    }\n",
              "\n",
              "    [theme=dark] .colab-df-convert:hover {\n",
              "      background-color: #434B5C;\n",
              "      box-shadow: 0px 1px 3px 1px rgba(0, 0, 0, 0.15);\n",
              "      filter: drop-shadow(0px 1px 2px rgba(0, 0, 0, 0.3));\n",
              "      fill: #FFFFFF;\n",
              "    }\n",
              "  </style>\n",
              "\n",
              "      <script>\n",
              "        const buttonEl =\n",
              "          document.querySelector('#df-f1af74d7-cf19-42be-80a6-b987a7a7c0d9 button.colab-df-convert');\n",
              "        buttonEl.style.display =\n",
              "          google.colab.kernel.accessAllowed ? 'block' : 'none';\n",
              "\n",
              "        async function convertToInteractive(key) {\n",
              "          const element = document.querySelector('#df-f1af74d7-cf19-42be-80a6-b987a7a7c0d9');\n",
              "          const dataTable =\n",
              "            await google.colab.kernel.invokeFunction('convertToInteractive',\n",
              "                                                     [key], {});\n",
              "          if (!dataTable) return;\n",
              "\n",
              "          const docLinkHtml = 'Like what you see? Visit the ' +\n",
              "            '<a target=\"_blank\" href=https://colab.research.google.com/notebooks/data_table.ipynb>data table notebook</a>'\n",
              "            + ' to learn more about interactive tables.';\n",
              "          element.innerHTML = '';\n",
              "          dataTable['output_type'] = 'display_data';\n",
              "          await google.colab.output.renderOutput(dataTable, element);\n",
              "          const docLink = document.createElement('div');\n",
              "          docLink.innerHTML = docLinkHtml;\n",
              "          element.appendChild(docLink);\n",
              "        }\n",
              "      </script>\n",
              "    </div>\n",
              "  </div>\n",
              "  "
            ],
            "text/plain": [
              "                      Power  Haulage_speed  Traffic_flow  work_time  target  \\\n",
              "DateTime                                                                      \n",
              "2020-09-11 00:00:00  458.11           8.46        2423.0          2  268.92   \n",
              "2020-09-11 00:00:05  458.11           8.46        2440.0          2  246.95   \n",
              "2020-09-11 00:00:10  458.11           8.45        2453.0          2  246.95   \n",
              "2020-09-11 00:00:15  458.11           8.40        2463.0          2  246.95   \n",
              "2020-09-11 00:00:20  484.66           9.01        2483.0          2  246.95   \n",
              "...                     ...            ...           ...        ...     ...   \n",
              "2020-11-06 05:16:25  140.16           9.43         367.0          3    0.00   \n",
              "2020-11-06 05:16:30  140.16           5.75         360.0          3    0.00   \n",
              "2020-11-06 05:16:35  145.93          13.65         356.0          3    0.00   \n",
              "2020-11-06 05:16:40  145.93          13.35         347.0          3    0.00   \n",
              "2020-11-06 05:16:45  145.93          13.57         346.0          3    0.00   \n",
              "\n",
              "                     Power_1  Power_2  Power_3  Power_4  Power_5  \n",
              "DateTime                                                          \n",
              "2020-09-11 00:00:00      NaN      NaN      NaN      NaN      NaN  \n",
              "2020-09-11 00:00:05   458.11      NaN      NaN      NaN      NaN  \n",
              "2020-09-11 00:00:10   458.11   458.11      NaN      NaN      NaN  \n",
              "2020-09-11 00:00:15   458.11   458.11   458.11      NaN      NaN  \n",
              "2020-09-11 00:00:20   458.11   458.11   458.11   458.11      NaN  \n",
              "...                      ...      ...      ...      ...      ...  \n",
              "2020-11-06 05:16:25   140.16   141.18   141.18   141.18   141.18  \n",
              "2020-11-06 05:16:30   140.16   140.16   141.18   141.18   141.18  \n",
              "2020-11-06 05:16:35   140.16   140.16   140.16   141.18   141.18  \n",
              "2020-11-06 05:16:40   145.93   140.16   140.16   140.16   141.18  \n",
              "2020-11-06 05:16:45   145.93   145.93   140.16   140.16   140.16  \n",
              "\n",
              "[557931 rows x 10 columns]"
            ]
          },
          "execution_count": 22,
          "metadata": {},
          "output_type": "execute_result"
        }
      ],
      "source": [
        "df"
      ]
    },
    {
      "cell_type": "code",
      "execution_count": null,
      "metadata": {
        "colab": {
          "base_uri": "https://localhost:8080/",
          "height": 450
        },
        "id": "UiPoqlCOCK8d",
        "outputId": "ce831d53-3a0d-4b1c-ba10-9095faad8174"
      },
      "outputs": [
        {
          "data": {
            "text/plain": [
              "<AxesSubplot:>"
            ]
          },
          "execution_count": 23,
          "metadata": {},
          "output_type": "execute_result"
        },
        {
          "data": {
            "image/png": "[encoded data removed]",
            "text/plain": [
              "<Figure size 648x504 with 2 Axes>"
            ]
          },
          "metadata": {},
          "output_type": "display_data"
        }
      ],
      "source": [
        "plt.figure(figsize = (9, 7))\n",
        "corr = df[['Power', 'Haulage_speed', 'Traffic_flow']].corr()\n",
        "sns.heatmap(corr, annot = True)"
      ]
    },
    {
      "cell_type": "code",
      "execution_count": null,
      "metadata": {
        "id": "qyxtX932IdMT"
      },
      "outputs": [],
      "source": [
        "df['DateTime'] = df.index\n",
        "df.index = range(df.shape[0])"
      ]
    },
    {
      "cell_type": "markdown",
      "source": [
        "Дату необходимо разбить по признакам. Далее осуществляем подбор гиперпараметров с помощью GridSearchCV и с помощью алгоритма XGboost обучаем модель, применяя кросс-валидацию\n",
        "\n"
      ],
      "metadata": {
        "id": "DU_Ao3f9yL6u"
      }
    },
    {
      "cell_type": "code",
      "execution_count": null,
      "metadata": {
        "id": "AJZTj_V6CK-l"
      },
      "outputs": [],
      "source": [
        "df[\"second\"] = df.DateTime.dt.second\n",
        "df[\"minute\"] = df.DateTime.dt.minute\n",
        "df[\"hour\"] = df.DateTime.dt.hour\n",
        "df[\"weekday\"] = df.DateTime.dt.weekday \n",
        "df[\"month\"] = df.DateTime.dt.month\n",
        "df[\"year\"] = df.DateTime.dt.year"
      ]
    },
    {
      "cell_type": "code",
      "execution_count": null,
      "metadata": {
        "id": "qwXsKmULIpn_"
      },
      "outputs": [],
      "source": [
        "df = df.drop(['DateTime'], axis = 1)\n",
        "df = df.dropna()"
      ]
    },
    {
      "cell_type": "code",
      "execution_count": null,
      "metadata": {
        "colab": {
          "base_uri": "https://localhost:8080/",
          "height": 468
        },
        "id": "xLHYrF6iCLBE",
        "outputId": "96edafa9-a262-4f2f-a792-e39ecf98685d"
      },
      "outputs": [
        {
          "data": {
            "text/html": [
              "\n",
              "  <div id=\"df-34744cbb-24c9-4091-9f28-11ca9d1998c2\">\n",
              "    <div class=\"colab-df-container\">\n",
              "      <div>\n",
              "<style scoped>\n",
              "    .dataframe tbody tr th:only-of-type {\n",
              "        vertical-align: middle;\n",
              "    }\n",
              "\n",
              "    .dataframe tbody tr th {\n",
              "        vertical-align: top;\n",
              "    }\n",
              "\n",
              "    .dataframe thead th {\n",
              "        text-align: right;\n",
              "    }\n",
              "</style>\n",
              "<table border=\"1\" class=\"dataframe\">\n",
              "  <thead>\n",
              "    <tr style=\"text-align: right;\">\n",
              "      <th></th>\n",
              "      <th>Power</th>\n",
              "      <th>Haulage_speed</th>\n",
              "      <th>Traffic_flow</th>\n",
              "      <th>work_time</th>\n",
              "      <th>target</th>\n",
              "      <th>Power_1</th>\n",
              "      <th>Power_2</th>\n",
              "      <th>Power_3</th>\n",
              "      <th>Power_4</th>\n",
              "      <th>Power_5</th>\n",
              "      <th>second</th>\n",
              "      <th>minute</th>\n",
              "      <th>hour</th>\n",
              "      <th>weekday</th>\n",
              "      <th>month</th>\n",
              "      <th>year</th>\n",
              "    </tr>\n",
              "  </thead>\n",
              "  <tbody>\n",
              "    <tr>\n",
              "      <th>5</th>\n",
              "      <td>484.66</td>\n",
              "      <td>9.07</td>\n",
              "      <td>2484.0</td>\n",
              "      <td>2</td>\n",
              "      <td>288.11</td>\n",
              "      <td>484.66</td>\n",
              "      <td>458.11</td>\n",
              "      <td>458.11</td>\n",
              "      <td>458.11</td>\n",
              "      <td>458.11</td>\n",
              "      <td>25</td>\n",
              "      <td>0</td>\n",
              "      <td>0</td>\n",
              "      <td>4</td>\n",
              "      <td>9</td>\n",
              "      <td>2020</td>\n",
              "    </tr>\n",
              "    <tr>\n",
              "      <th>6</th>\n",
              "      <td>484.66</td>\n",
              "      <td>8.37</td>\n",
              "      <td>2489.0</td>\n",
              "      <td>2</td>\n",
              "      <td>288.11</td>\n",
              "      <td>484.66</td>\n",
              "      <td>484.66</td>\n",
              "      <td>458.11</td>\n",
              "      <td>458.11</td>\n",
              "      <td>458.11</td>\n",
              "      <td>30</td>\n",
              "      <td>0</td>\n",
              "      <td>0</td>\n",
              "      <td>4</td>\n",
              "      <td>9</td>\n",
              "      <td>2020</td>\n",
              "    </tr>\n",
              "    <tr>\n",
              "      <th>7</th>\n",
              "      <td>484.66</td>\n",
              "      <td>9.41</td>\n",
              "      <td>2502.0</td>\n",
              "      <td>2</td>\n",
              "      <td>288.11</td>\n",
              "      <td>484.66</td>\n",
              "      <td>484.66</td>\n",
              "      <td>484.66</td>\n",
              "      <td>458.11</td>\n",
              "      <td>458.11</td>\n",
              "      <td>35</td>\n",
              "      <td>0</td>\n",
              "      <td>0</td>\n",
              "      <td>4</td>\n",
              "      <td>9</td>\n",
              "      <td>2020</td>\n",
              "    </tr>\n",
              "    <tr>\n",
              "      <th>8</th>\n",
              "      <td>469.71</td>\n",
              "      <td>8.88</td>\n",
              "      <td>2510.0</td>\n",
              "      <td>2</td>\n",
              "      <td>243.92</td>\n",
              "      <td>484.66</td>\n",
              "      <td>484.66</td>\n",
              "      <td>484.66</td>\n",
              "      <td>484.66</td>\n",
              "      <td>458.11</td>\n",
              "      <td>40</td>\n",
              "      <td>0</td>\n",
              "      <td>0</td>\n",
              "      <td>4</td>\n",
              "      <td>9</td>\n",
              "      <td>2020</td>\n",
              "    </tr>\n",
              "    <tr>\n",
              "      <th>9</th>\n",
              "      <td>469.71</td>\n",
              "      <td>9.06</td>\n",
              "      <td>2509.0</td>\n",
              "      <td>2</td>\n",
              "      <td>243.92</td>\n",
              "      <td>469.71</td>\n",
              "      <td>484.66</td>\n",
              "      <td>484.66</td>\n",
              "      <td>484.66</td>\n",
              "      <td>484.66</td>\n",
              "      <td>45</td>\n",
              "      <td>0</td>\n",
              "      <td>0</td>\n",
              "      <td>4</td>\n",
              "      <td>9</td>\n",
              "      <td>2020</td>\n",
              "    </tr>\n",
              "    <tr>\n",
              "      <th>...</th>\n",
              "      <td>...</td>\n",
              "      <td>...</td>\n",
              "      <td>...</td>\n",
              "      <td>...</td>\n",
              "      <td>...</td>\n",
              "      <td>...</td>\n",
              "      <td>...</td>\n",
              "      <td>...</td>\n",
              "      <td>...</td>\n",
              "      <td>...</td>\n",
              "      <td>...</td>\n",
              "      <td>...</td>\n",
              "      <td>...</td>\n",
              "      <td>...</td>\n",
              "      <td>...</td>\n",
              "      <td>...</td>\n",
              "    </tr>\n",
              "    <tr>\n",
              "      <th>557926</th>\n",
              "      <td>140.16</td>\n",
              "      <td>9.43</td>\n",
              "      <td>367.0</td>\n",
              "      <td>3</td>\n",
              "      <td>0.00</td>\n",
              "      <td>140.16</td>\n",
              "      <td>141.18</td>\n",
              "      <td>141.18</td>\n",
              "      <td>141.18</td>\n",
              "      <td>141.18</td>\n",
              "      <td>25</td>\n",
              "      <td>16</td>\n",
              "      <td>5</td>\n",
              "      <td>4</td>\n",
              "      <td>11</td>\n",
              "      <td>2020</td>\n",
              "    </tr>\n",
              "    <tr>\n",
              "      <th>557927</th>\n",
              "      <td>140.16</td>\n",
              "      <td>5.75</td>\n",
              "      <td>360.0</td>\n",
              "      <td>3</td>\n",
              "      <td>0.00</td>\n",
              "      <td>140.16</td>\n",
              "      <td>140.16</td>\n",
              "      <td>141.18</td>\n",
              "      <td>141.18</td>\n",
              "      <td>141.18</td>\n",
              "      <td>30</td>\n",
              "      <td>16</td>\n",
              "      <td>5</td>\n",
              "      <td>4</td>\n",
              "      <td>11</td>\n",
              "      <td>2020</td>\n",
              "    </tr>\n",
              "    <tr>\n",
              "      <th>557928</th>\n",
              "      <td>145.93</td>\n",
              "      <td>13.65</td>\n",
              "      <td>356.0</td>\n",
              "      <td>3</td>\n",
              "      <td>0.00</td>\n",
              "      <td>140.16</td>\n",
              "      <td>140.16</td>\n",
              "      <td>140.16</td>\n",
              "      <td>141.18</td>\n",
              "      <td>141.18</td>\n",
              "      <td>35</td>\n",
              "      <td>16</td>\n",
              "      <td>5</td>\n",
              "      <td>4</td>\n",
              "      <td>11</td>\n",
              "      <td>2020</td>\n",
              "    </tr>\n",
              "    <tr>\n",
              "      <th>557929</th>\n",
              "      <td>145.93</td>\n",
              "      <td>13.35</td>\n",
              "      <td>347.0</td>\n",
              "      <td>3</td>\n",
              "      <td>0.00</td>\n",
              "      <td>145.93</td>\n",
              "      <td>140.16</td>\n",
              "      <td>140.16</td>\n",
              "      <td>140.16</td>\n",
              "      <td>141.18</td>\n",
              "      <td>40</td>\n",
              "      <td>16</td>\n",
              "      <td>5</td>\n",
              "      <td>4</td>\n",
              "      <td>11</td>\n",
              "      <td>2020</td>\n",
              "    </tr>\n",
              "    <tr>\n",
              "      <th>557930</th>\n",
              "      <td>145.93</td>\n",
              "      <td>13.57</td>\n",
              "      <td>346.0</td>\n",
              "      <td>3</td>\n",
              "      <td>0.00</td>\n",
              "      <td>145.93</td>\n",
              "      <td>145.93</td>\n",
              "      <td>140.16</td>\n",
              "      <td>140.16</td>\n",
              "      <td>140.16</td>\n",
              "      <td>45</td>\n",
              "      <td>16</td>\n",
              "      <td>5</td>\n",
              "      <td>4</td>\n",
              "      <td>11</td>\n",
              "      <td>2020</td>\n",
              "    </tr>\n",
              "  </tbody>\n",
              "</table>\n",
              "<p>557926 rows × 16 columns</p>\n",
              "</div>\n",
              "      <button class=\"colab-df-convert\" onclick=\"convertToInteractive('df-34744cbb-24c9-4091-9f28-11ca9d1998c2')\"\n",
              "              title=\"Convert this dataframe to an interactive table.\"\n",
              "              style=\"display:none;\">\n",
              "        \n",
              "  <svg xmlns=\"http://www.w3.org/2000/svg\" height=\"24px\"viewBox=\"0 0 24 24\"\n",
              "       width=\"24px\">\n",
              "    <path d=\"M0 0h24v24H0V0z\" fill=\"none\"/>\n",
              "    <path d=\"M18.56 5.44l.94 2.06.94-2.06 2.06-.94-2.06-.94-.94-2.06-.94 2.06-2.06.94zm-11 1L8.5 8.5l.94-2.06 2.06-.94-2.06-.94L8.5 2.5l-.94 2.06-2.06.94zm10 10l.94 2.06.94-2.06 2.06-.94-2.06-.94-.94-2.06-.94 2.06-2.06.94z\"/><path d=\"M17.41 7.96l-1.37-1.37c-.4-.4-.92-.59-1.43-.59-.52 0-1.04.2-1.43.59L10.3 9.45l-7.72 7.72c-.78.78-.78 2.05 0 2.83L4 21.41c.39.39.9.59 1.41.59.51 0 1.02-.2 1.41-.59l7.78-7.78 2.81-2.81c.8-.78.8-2.07 0-2.86zM5.41 20L4 18.59l7.72-7.72 1.47 1.35L5.41 20z\"/>\n",
              "  </svg>\n",
              "      </button>\n",
              "      \n",
              "  <style>\n",
              "    .colab-df-container {\n",
              "      display:flex;\n",
              "      flex-wrap:wrap;\n",
              "      gap: 12px;\n",
              "    }\n",
              "\n",
              "    .colab-df-convert {\n",
              "      background-color: #E8F0FE;\n",
              "      border: none;\n",
              "      border-radius: 50%;\n",
              "      cursor: pointer;\n",
              "      display: none;\n",
              "      fill: #1967D2;\n",
              "      height: 32px;\n",
              "      padding: 0 0 0 0;\n",
              "      width: 32px;\n",
              "    }\n",
              "\n",
              "    .colab-df-convert:hover {\n",
              "      background-color: #E2EBFA;\n",
              "      box-shadow: 0px 1px 2px rgba(60, 64, 67, 0.3), 0px 1px 3px 1px rgba(60, 64, 67, 0.15);\n",
              "      fill: #174EA6;\n",
              "    }\n",
              "\n",
              "    [theme=dark] .colab-df-convert {\n",
              "      background-color: #3B4455;\n",
              "      fill: #D2E3FC;\n",
              "    }\n",
              "\n",
              "    [theme=dark] .colab-df-convert:hover {\n",
              "      background-color: #434B5C;\n",
              "      box-shadow: 0px 1px 3px 1px rgba(0, 0, 0, 0.15);\n",
              "      filter: drop-shadow(0px 1px 2px rgba(0, 0, 0, 0.3));\n",
              "      fill: #FFFFFF;\n",
              "    }\n",
              "  </style>\n",
              "\n",
              "      <script>\n",
              "        const buttonEl =\n",
              "          document.querySelector('#df-34744cbb-24c9-4091-9f28-11ca9d1998c2 button.colab-df-convert');\n",
              "        buttonEl.style.display =\n",
              "          google.colab.kernel.accessAllowed ? 'block' : 'none';\n",
              "\n",
              "        async function convertToInteractive(key) {\n",
              "          const element = document.querySelector('#df-34744cbb-24c9-4091-9f28-11ca9d1998c2');\n",
              "          const dataTable =\n",
              "            await google.colab.kernel.invokeFunction('convertToInteractive',\n",
              "                                                     [key], {});\n",
              "          if (!dataTable) return;\n",
              "\n",
              "          const docLinkHtml = 'Like what you see? Visit the ' +\n",
              "            '<a target=\"_blank\" href=https://colab.research.google.com/notebooks/data_table.ipynb>data table notebook</a>'\n",
              "            + ' to learn more about interactive tables.';\n",
              "          element.innerHTML = '';\n",
              "          dataTable['output_type'] = 'display_data';\n",
              "          await google.colab.output.renderOutput(dataTable, element);\n",
              "          const docLink = document.createElement('div');\n",
              "          docLink.innerHTML = docLinkHtml;\n",
              "          element.appendChild(docLink);\n",
              "        }\n",
              "      </script>\n",
              "    </div>\n",
              "  </div>\n",
              "  "
            ],
            "text/plain": [
              "         Power  Haulage_speed  Traffic_flow  work_time  target  Power_1  \\\n",
              "5       484.66           9.07        2484.0          2  288.11   484.66   \n",
              "6       484.66           8.37        2489.0          2  288.11   484.66   \n",
              "7       484.66           9.41        2502.0          2  288.11   484.66   \n",
              "8       469.71           8.88        2510.0          2  243.92   484.66   \n",
              "9       469.71           9.06        2509.0          2  243.92   469.71   \n",
              "...        ...            ...           ...        ...     ...      ...   \n",
              "557926  140.16           9.43         367.0          3    0.00   140.16   \n",
              "557927  140.16           5.75         360.0          3    0.00   140.16   \n",
              "557928  145.93          13.65         356.0          3    0.00   140.16   \n",
              "557929  145.93          13.35         347.0          3    0.00   145.93   \n",
              "557930  145.93          13.57         346.0          3    0.00   145.93   \n",
              "\n",
              "        Power_2  Power_3  Power_4  Power_5  second  minute  hour  weekday  \\\n",
              "5        458.11   458.11   458.11   458.11      25       0     0        4   \n",
              "6        484.66   458.11   458.11   458.11      30       0     0        4   \n",
              "7        484.66   484.66   458.11   458.11      35       0     0        4   \n",
              "8        484.66   484.66   484.66   458.11      40       0     0        4   \n",
              "9        484.66   484.66   484.66   484.66      45       0     0        4   \n",
              "...         ...      ...      ...      ...     ...     ...   ...      ...   \n",
              "557926   141.18   141.18   141.18   141.18      25      16     5        4   \n",
              "557927   140.16   141.18   141.18   141.18      30      16     5        4   \n",
              "557928   140.16   140.16   141.18   141.18      35      16     5        4   \n",
              "557929   140.16   140.16   140.16   141.18      40      16     5        4   \n",
              "557930   145.93   140.16   140.16   140.16      45      16     5        4   \n",
              "\n",
              "        month  year  \n",
              "5           9  2020  \n",
              "6           9  2020  \n",
              "7           9  2020  \n",
              "8           9  2020  \n",
              "9           9  2020  \n",
              "...       ...   ...  \n",
              "557926     11  2020  \n",
              "557927     11  2020  \n",
              "557928     11  2020  \n",
              "557929     11  2020  \n",
              "557930     11  2020  \n",
              "\n",
              "[557926 rows x 16 columns]"
            ]
          },
          "execution_count": 27,
          "metadata": {},
          "output_type": "execute_result"
        }
      ],
      "source": [
        "df"
      ]
    },
    {
      "cell_type": "code",
      "execution_count": null,
      "metadata": {
        "id": "1rpHnaJZCLDi"
      },
      "outputs": [],
      "source": [
        "df.to_csv('DATAFRAME')"
      ]
    },
    {
      "cell_type": "code",
      "execution_count": null,
      "metadata": {
        "id": "wvR8d9KWCLGE"
      },
      "outputs": [],
      "source": [
        "X = df.drop(['target'], axis = 1)\n",
        "y = df.target"
      ]
    },
    {
      "cell_type": "code",
      "execution_count": null,
      "metadata": {
        "id": "AqEIGf-qCLIx"
      },
      "outputs": [],
      "source": [
        "#from sklearn.model_selection import KFold, StratifiedKFold, cross_val_score\n",
        "#from sklearn.model_selection import cross_val_predict"
      ]
    },
    {
      "cell_type": "code",
      "execution_count": null,
      "metadata": {
        "colab": {
          "base_uri": "https://localhost:8080/"
        },
        "id": "4vgDPLttCLLM",
        "outputId": "6a31f4d6-1260-4acf-9089-8e2747cfe325"
      },
      "outputs": [
        {
          "name": "stdout",
          "output_type": "stream",
          "text": [
            "Fold:1, Train set: 446340, Test set:111586\n",
            "Fold:2, Train set: 446341, Test set:111585\n",
            "Fold:3, Train set: 446341, Test set:111585\n",
            "Fold:4, Train set: 446341, Test set:111585\n",
            "Fold:5, Train set: 446341, Test set:111585\n"
          ]
        }
      ],
      "source": [
        "kf =KFold(n_splits=5, shuffle=True, random_state=42)\n",
        "\n",
        "cnt = 1\n",
        "# split()  method generate indices to split data into training and test set.\n",
        "for train_index, test_index in kf.split(X, y):\n",
        "    print(f'Fold:{cnt}, Train set: {len(train_index)}, Test set:{len(test_index)}')\n",
        "    cnt += 1"
      ]
    },
    {
      "cell_type": "code",
      "execution_count": null,
      "metadata": {
        "id": "ECadUNejCLN3"
      },
      "outputs": [],
      "source": [
        "from sklearn.model_selection import GridSearchCV\n",
        "xgb_model = XGBRegressor()\n",
        "\n",
        "#parameters = {'booster':['gbtree'], \n",
        "#              'colsample_bylevel': range(0, 1), \n",
        "#              'colsample_bytree': range(0, 1), \n",
        "#              'subsample':[0.8, 0.9],\n",
        "#              'gamma':[0.0, 0.1],\n",
        "#              'learning_fate':[0.1, 0.2, 0.3],\n",
        "#              'max_depth': range(7, 11),\n",
        "#              'n_estimators': range(4500, 5500, 2),\n",
        "#              'n_jobs':[-1],\n",
        "#              'seed':[555]}\n",
        "\n",
        "\n",
        "#clf = GridSearchCV(estimator=xgb_model,\n",
        "#                   param_grid=parameters,\n",
        "#                   scoring = 'r2',\n",
        "#                   cv = 5,\n",
        "#                   verbose=True)\n",
        "\n",
        "#clf.fit(X, y)\n",
        "#clf.best_estimator_"
      ]
    },
    {
      "cell_type": "code",
      "execution_count": null,
      "metadata": {
        "id": "T5VGy7teDJB1"
      },
      "outputs": [],
      "source": [
        "estimator = XGBRegressor(booster = 'gbtree', \n",
        "                         colsample_bylevel = 0.5, \n",
        "                         colsample_bytree = 0.7, \n",
        "                         subsample=0.9,\n",
        "                         gamma = 0.1,\n",
        "                         learning_fate = 0.1,\n",
        "                         max_depth = 10,\n",
        "                         n_estimators = 6000,\n",
        "                         n_jobs = -1,\n",
        "                         seed= 555\n",
        "                         )\n",
        "predictions = cross_val_predict(estimator, X, y, cv= kf, verbose = 10)            # Вывод результатов прогноза\n",
        "predictions = pd.DataFrame({'predictions':predictions})"
      ]
    },
    {
      "cell_type": "code",
      "source": [
        "predictions"
      ],
      "metadata": {
        "colab": {
          "base_uri": "https://localhost:8080/",
          "height": 424
        },
        "id": "GfosIjMZu3s9",
        "outputId": "725cf33a-1777-4987-9182-288ec112a762"
      },
      "execution_count": null,
      "outputs": [
        {
          "output_type": "execute_result",
          "data": {
            "text/plain": [
              "        predictions\n",
              "0        282.073853\n",
              "1        285.044373\n",
              "2        270.055908\n",
              "3        255.892502\n",
              "4        240.253891\n",
              "...             ...\n",
              "557921     6.861469\n",
              "557922    32.894718\n",
              "557923     6.130837\n",
              "557924    -3.805839\n",
              "557925    -1.142220\n",
              "\n",
              "[557926 rows x 1 columns]"
            ],
            "text/html": [
              "\n",
              "  <div id=\"df-5b5ffa03-7885-4cf5-81a8-73ca40cd980e\">\n",
              "    <div class=\"colab-df-container\">\n",
              "      <div>\n",
              "<style scoped>\n",
              "    .dataframe tbody tr th:only-of-type {\n",
              "        vertical-align: middle;\n",
              "    }\n",
              "\n",
              "    .dataframe tbody tr th {\n",
              "        vertical-align: top;\n",
              "    }\n",
              "\n",
              "    .dataframe thead th {\n",
              "        text-align: right;\n",
              "    }\n",
              "</style>\n",
              "<table border=\"1\" class=\"dataframe\">\n",
              "  <thead>\n",
              "    <tr style=\"text-align: right;\">\n",
              "      <th></th>\n",
              "      <th>predictions</th>\n",
              "    </tr>\n",
              "  </thead>\n",
              "  <tbody>\n",
              "    <tr>\n",
              "      <th>0</th>\n",
              "      <td>282.073853</td>\n",
              "    </tr>\n",
              "    <tr>\n",
              "      <th>1</th>\n",
              "      <td>285.044373</td>\n",
              "    </tr>\n",
              "    <tr>\n",
              "      <th>2</th>\n",
              "      <td>270.055908</td>\n",
              "    </tr>\n",
              "    <tr>\n",
              "      <th>3</th>\n",
              "      <td>255.892502</td>\n",
              "    </tr>\n",
              "    <tr>\n",
              "      <th>4</th>\n",
              "      <td>240.253891</td>\n",
              "    </tr>\n",
              "    <tr>\n",
              "      <th>...</th>\n",
              "      <td>...</td>\n",
              "    </tr>\n",
              "    <tr>\n",
              "      <th>557921</th>\n",
              "      <td>6.861469</td>\n",
              "    </tr>\n",
              "    <tr>\n",
              "      <th>557922</th>\n",
              "      <td>32.894718</td>\n",
              "    </tr>\n",
              "    <tr>\n",
              "      <th>557923</th>\n",
              "      <td>6.130837</td>\n",
              "    </tr>\n",
              "    <tr>\n",
              "      <th>557924</th>\n",
              "      <td>-3.805839</td>\n",
              "    </tr>\n",
              "    <tr>\n",
              "      <th>557925</th>\n",
              "      <td>-1.142220</td>\n",
              "    </tr>\n",
              "  </tbody>\n",
              "</table>\n",
              "<p>557926 rows × 1 columns</p>\n",
              "</div>\n",
              "      <button class=\"colab-df-convert\" onclick=\"convertToInteractive('df-5b5ffa03-7885-4cf5-81a8-73ca40cd980e')\"\n",
              "              title=\"Convert this dataframe to an interactive table.\"\n",
              "              style=\"display:none;\">\n",
              "        \n",
              "  <svg xmlns=\"http://www.w3.org/2000/svg\" height=\"24px\"viewBox=\"0 0 24 24\"\n",
              "       width=\"24px\">\n",
              "    <path d=\"M0 0h24v24H0V0z\" fill=\"none\"/>\n",
              "    <path d=\"M18.56 5.44l.94 2.06.94-2.06 2.06-.94-2.06-.94-.94-2.06-.94 2.06-2.06.94zm-11 1L8.5 8.5l.94-2.06 2.06-.94-2.06-.94L8.5 2.5l-.94 2.06-2.06.94zm10 10l.94 2.06.94-2.06 2.06-.94-2.06-.94-.94-2.06-.94 2.06-2.06.94z\"/><path d=\"M17.41 7.96l-1.37-1.37c-.4-.4-.92-.59-1.43-.59-.52 0-1.04.2-1.43.59L10.3 9.45l-7.72 7.72c-.78.78-.78 2.05 0 2.83L4 21.41c.39.39.9.59 1.41.59.51 0 1.02-.2 1.41-.59l7.78-7.78 2.81-2.81c.8-.78.8-2.07 0-2.86zM5.41 20L4 18.59l7.72-7.72 1.47 1.35L5.41 20z\"/>\n",
              "  </svg>\n",
              "      </button>\n",
              "      \n",
              "  <style>\n",
              "    .colab-df-container {\n",
              "      display:flex;\n",
              "      flex-wrap:wrap;\n",
              "      gap: 12px;\n",
              "    }\n",
              "\n",
              "    .colab-df-convert {\n",
              "      background-color: #E8F0FE;\n",
              "      border: none;\n",
              "      border-radius: 50%;\n",
              "      cursor: pointer;\n",
              "      display: none;\n",
              "      fill: #1967D2;\n",
              "      height: 32px;\n",
              "      padding: 0 0 0 0;\n",
              "      width: 32px;\n",
              "    }\n",
              "\n",
              "    .colab-df-convert:hover {\n",
              "      background-color: #E2EBFA;\n",
              "      box-shadow: 0px 1px 2px rgba(60, 64, 67, 0.3), 0px 1px 3px 1px rgba(60, 64, 67, 0.15);\n",
              "      fill: #174EA6;\n",
              "    }\n",
              "\n",
              "    [theme=dark] .colab-df-convert {\n",
              "      background-color: #3B4455;\n",
              "      fill: #D2E3FC;\n",
              "    }\n",
              "\n",
              "    [theme=dark] .colab-df-convert:hover {\n",
              "      background-color: #434B5C;\n",
              "      box-shadow: 0px 1px 3px 1px rgba(0, 0, 0, 0.15);\n",
              "      filter: drop-shadow(0px 1px 2px rgba(0, 0, 0, 0.3));\n",
              "      fill: #FFFFFF;\n",
              "    }\n",
              "  </style>\n",
              "\n",
              "      <script>\n",
              "        const buttonEl =\n",
              "          document.querySelector('#df-5b5ffa03-7885-4cf5-81a8-73ca40cd980e button.colab-df-convert');\n",
              "        buttonEl.style.display =\n",
              "          google.colab.kernel.accessAllowed ? 'block' : 'none';\n",
              "\n",
              "        async function convertToInteractive(key) {\n",
              "          const element = document.querySelector('#df-5b5ffa03-7885-4cf5-81a8-73ca40cd980e');\n",
              "          const dataTable =\n",
              "            await google.colab.kernel.invokeFunction('convertToInteractive',\n",
              "                                                     [key], {});\n",
              "          if (!dataTable) return;\n",
              "\n",
              "          const docLinkHtml = 'Like what you see? Visit the ' +\n",
              "            '<a target=\"_blank\" href=https://colab.research.google.com/notebooks/data_table.ipynb>data table notebook</a>'\n",
              "            + ' to learn more about interactive tables.';\n",
              "          element.innerHTML = '';\n",
              "          dataTable['output_type'] = 'display_data';\n",
              "          await google.colab.output.renderOutput(dataTable, element);\n",
              "          const docLink = document.createElement('div');\n",
              "          docLink.innerHTML = docLinkHtml;\n",
              "          element.appendChild(docLink);\n",
              "        }\n",
              "      </script>\n",
              "    </div>\n",
              "  </div>\n",
              "  "
            ]
          },
          "metadata": {},
          "execution_count": 32
        }
      ]
    },
    {
      "cell_type": "code",
      "execution_count": null,
      "metadata": {
        "id": "xNT3Dvr9DJER"
      },
      "outputs": [],
      "source": [
        "predictions['target'] = df['target']\n",
        "predictions['DateTime'] = data_time"
      ]
    },
    {
      "cell_type": "code",
      "source": [
        "predictions.dropna()"
      ],
      "metadata": {
        "id": "7RrO6z7fvSlD"
      },
      "execution_count": null,
      "outputs": []
    },
    {
      "cell_type": "markdown",
      "source": [
        "Прогноз составлен, значения выведены. Необходимо узнать, насколько ошибается модель. Для этого нужно построить график с прогнозным и реальным потреблением электроэнергии и, поскольку данных много, для наглядности построим за 10 минутный интервал времени. \n",
        "\n",
        "Далее распишем функцию, в которой выведем результаты метрик ошибки. "
      ],
      "metadata": {
        "id": "c3ISVMXTyzUi"
      }
    },
    {
      "cell_type": "code",
      "execution_count": null,
      "metadata": {
        "colab": {
          "base_uri": "https://localhost:8080/",
          "height": 409
        },
        "id": "1pIouo9ODJJr",
        "outputId": "1163610f-15bd-4d84-a1de-62dce6fbcb95"
      },
      "outputs": [
        {
          "output_type": "display_data",
          "data": {
            "text/plain": [
              "<Figure size 720x432 with 1 Axes>"
            ],
            "image/png": "[encoded data removed]"
          },
          "metadata": {
            "needs_background": "light"
          }
        }
      ],
      "source": [
        "predictions.index = predictions['DateTime']\n",
        "predictions = predictions.drop(['DateTime'], axis = 1)\n",
        "predictions_10_min = predictions[:141]\n",
        "\n",
        "plt.figure(figsize = (10, 6))\n",
        "sns.lineplot(data = predictions_10_min['predictions'], label = 'Прогнозируемые данные')\n",
        "sns.lineplot(data = predictions_10_min['target'], color = 'red', label = 'Реальные данные')\n",
        "plt.title('Сравнение за 10 минут работы', fontsize = 14)\n",
        "plt.xlabel('Время', fontsize = 14)\n",
        "plt.ylabel('Потребление электроэнергии', fontsize = 14)\n",
        "plt.legend()\n",
        "plt.show()"
      ]
    },
    {
      "cell_type": "code",
      "source": [
        "pred_data = predictions\n",
        "pred_data = pred_data.dropna()\n",
        "pred_data.index = range(pred_data.shape[0])"
      ],
      "metadata": {
        "id": "8QIspWPExpr4"
      },
      "execution_count": null,
      "outputs": []
    },
    {
      "cell_type": "code",
      "source": [
        "pred_data.to_csv('pred_data')"
      ],
      "metadata": {
        "id": "-MsdV-to1DLB"
      },
      "execution_count": null,
      "outputs": []
    },
    {
      "cell_type": "code",
      "source": [
        "pred_data = pd.read_csv('/content/pred_data')"
      ],
      "metadata": {
        "id": "ldSZBqd88_xh"
      },
      "execution_count": null,
      "outputs": []
    },
    {
      "cell_type": "code",
      "source": [
        "pred_data = pred_data.drop(['Unnamed: 0'], axis = 1)"
      ],
      "metadata": {
        "id": "jE1XM8tPHb9S"
      },
      "execution_count": null,
      "outputs": []
    },
    {
      "cell_type": "code",
      "execution_count": null,
      "metadata": {
        "id": "uofHVgFUDJMA"
      },
      "outputs": [],
      "source": [
        "#plt.figure(figsize = (500, 15))\n",
        "#sns.lineplot(data = df_1['pred'], label = 'Прогнозируемые данные')\n",
        "#sns.lineplot(data = df_1['target'], color = 'red', label = 'Реальные данные')"
      ]
    },
    {
      "cell_type": "code",
      "execution_count": null,
      "metadata": {
        "id": "9-rb3Ue9DJWP"
      },
      "outputs": [],
      "source": [
        "def mist_func(y_true, y_pred):\n",
        "\n",
        "  y_true = np.array(y_true)\n",
        "  y_pred = np.array(y_pred)\n",
        "\n",
        "  '''Mean squared error'''\n",
        "  RMSE = sqrt(mean_squared_error(y_true, y_pred)) \n",
        "\n",
        "  '''Mean absolute error'''\n",
        "  MAE = np.mean(np.abs(y_true - y_pred))\n",
        "\n",
        "  '''MAPE'''\n",
        "  #MAPE = np.mean(np.abs(y_true - y_pred)/(y_true))*100\n",
        "\n",
        "  '''Коэффициент детерминации r^2'''\n",
        "  r_2 = round(pred_data.corr().target[1], 3)**2\n",
        "\n",
        "  '''MAE в процентах'''\n",
        "  mae_ = (MAE * 100)/y_true.mean()\n",
        "\n",
        "  data_metrics = pd.DataFrame({'Mean_absolute_error': [MAE],\n",
        "                               'Коэффициент_детерминации_r^2': [r_2], \n",
        "                               'mae_%': [mae_], \n",
        "                               'RMSE': [RMSE]})\n",
        "\n",
        "  return data_metrics"
      ]
    },
    {
      "cell_type": "code",
      "execution_count": null,
      "metadata": {
        "id": "DHsWX1eICLP-",
        "colab": {
          "base_uri": "https://localhost:8080/",
          "height": 81
        },
        "outputId": "535d0b58-f8e3-40b5-9f64-f09f47cf04bb"
      },
      "outputs": [
        {
          "output_type": "execute_result",
          "data": {
            "text/plain": [
              "   Mean_absolute_error  Коэффициент_детерминации_r^2     mae_%       RMSE\n",
              "0            37.301086                           1.0  22.88284  53.041486"
            ],
            "text/html": [
              "\n",
              "  <div id=\"df-017f5c8d-f732-47a5-91b8-a31790ab9c38\">\n",
              "    <div class=\"colab-df-container\">\n",
              "      <div>\n",
              "<style scoped>\n",
              "    .dataframe tbody tr th:only-of-type {\n",
              "        vertical-align: middle;\n",
              "    }\n",
              "\n",
              "    .dataframe tbody tr th {\n",
              "        vertical-align: top;\n",
              "    }\n",
              "\n",
              "    .dataframe thead th {\n",
              "        text-align: right;\n",
              "    }\n",
              "</style>\n",
              "<table border=\"1\" class=\"dataframe\">\n",
              "  <thead>\n",
              "    <tr style=\"text-align: right;\">\n",
              "      <th></th>\n",
              "      <th>Mean_absolute_error</th>\n",
              "      <th>Коэффициент_детерминации_r^2</th>\n",
              "      <th>mae_%</th>\n",
              "      <th>RMSE</th>\n",
              "    </tr>\n",
              "  </thead>\n",
              "  <tbody>\n",
              "    <tr>\n",
              "      <th>0</th>\n",
              "      <td>37.301086</td>\n",
              "      <td>1.0</td>\n",
              "      <td>22.88284</td>\n",
              "      <td>53.041486</td>\n",
              "    </tr>\n",
              "  </tbody>\n",
              "</table>\n",
              "</div>\n",
              "      <button class=\"colab-df-convert\" onclick=\"convertToInteractive('df-017f5c8d-f732-47a5-91b8-a31790ab9c38')\"\n",
              "              title=\"Convert this dataframe to an interactive table.\"\n",
              "              style=\"display:none;\">\n",
              "        \n",
              "  <svg xmlns=\"http://www.w3.org/2000/svg\" height=\"24px\"viewBox=\"0 0 24 24\"\n",
              "       width=\"24px\">\n",
              "    <path d=\"M0 0h24v24H0V0z\" fill=\"none\"/>\n",
              "    <path d=\"M18.56 5.44l.94 2.06.94-2.06 2.06-.94-2.06-.94-.94-2.06-.94 2.06-2.06.94zm-11 1L8.5 8.5l.94-2.06 2.06-.94-2.06-.94L8.5 2.5l-.94 2.06-2.06.94zm10 10l.94 2.06.94-2.06 2.06-.94-2.06-.94-.94-2.06-.94 2.06-2.06.94z\"/><path d=\"M17.41 7.96l-1.37-1.37c-.4-.4-.92-.59-1.43-.59-.52 0-1.04.2-1.43.59L10.3 9.45l-7.72 7.72c-.78.78-.78 2.05 0 2.83L4 21.41c.39.39.9.59 1.41.59.51 0 1.02-.2 1.41-.59l7.78-7.78 2.81-2.81c.8-.78.8-2.07 0-2.86zM5.41 20L4 18.59l7.72-7.72 1.47 1.35L5.41 20z\"/>\n",
              "  </svg>\n",
              "      </button>\n",
              "      \n",
              "  <style>\n",
              "    .colab-df-container {\n",
              "      display:flex;\n",
              "      flex-wrap:wrap;\n",
              "      gap: 12px;\n",
              "    }\n",
              "\n",
              "    .colab-df-convert {\n",
              "      background-color: #E8F0FE;\n",
              "      border: none;\n",
              "      border-radius: 50%;\n",
              "      cursor: pointer;\n",
              "      display: none;\n",
              "      fill: #1967D2;\n",
              "      height: 32px;\n",
              "      padding: 0 0 0 0;\n",
              "      width: 32px;\n",
              "    }\n",
              "\n",
              "    .colab-df-convert:hover {\n",
              "      background-color: #E2EBFA;\n",
              "      box-shadow: 0px 1px 2px rgba(60, 64, 67, 0.3), 0px 1px 3px 1px rgba(60, 64, 67, 0.15);\n",
              "      fill: #174EA6;\n",
              "    }\n",
              "\n",
              "    [theme=dark] .colab-df-convert {\n",
              "      background-color: #3B4455;\n",
              "      fill: #D2E3FC;\n",
              "    }\n",
              "\n",
              "    [theme=dark] .colab-df-convert:hover {\n",
              "      background-color: #434B5C;\n",
              "      box-shadow: 0px 1px 3px 1px rgba(0, 0, 0, 0.15);\n",
              "      filter: drop-shadow(0px 1px 2px rgba(0, 0, 0, 0.3));\n",
              "      fill: #FFFFFF;\n",
              "    }\n",
              "  </style>\n",
              "\n",
              "      <script>\n",
              "        const buttonEl =\n",
              "          document.querySelector('#df-017f5c8d-f732-47a5-91b8-a31790ab9c38 button.colab-df-convert');\n",
              "        buttonEl.style.display =\n",
              "          google.colab.kernel.accessAllowed ? 'block' : 'none';\n",
              "\n",
              "        async function convertToInteractive(key) {\n",
              "          const element = document.querySelector('#df-017f5c8d-f732-47a5-91b8-a31790ab9c38');\n",
              "          const dataTable =\n",
              "            await google.colab.kernel.invokeFunction('convertToInteractive',\n",
              "                                                     [key], {});\n",
              "          if (!dataTable) return;\n",
              "\n",
              "          const docLinkHtml = 'Like what you see? Visit the ' +\n",
              "            '<a target=\"_blank\" href=https://colab.research.google.com/notebooks/data_table.ipynb>data table notebook</a>'\n",
              "            + ' to learn more about interactive tables.';\n",
              "          element.innerHTML = '';\n",
              "          dataTable['output_type'] = 'display_data';\n",
              "          await google.colab.output.renderOutput(dataTable, element);\n",
              "          const docLink = document.createElement('div');\n",
              "          docLink.innerHTML = docLinkHtml;\n",
              "          element.appendChild(docLink);\n",
              "        }\n",
              "      </script>\n",
              "    </div>\n",
              "  </div>\n",
              "  "
            ]
          },
          "metadata": {},
          "execution_count": 9
        }
      ],
      "source": [
        "y_pred = pred_data['predictions']\n",
        "y_true = pred_data['target']\n",
        "mist_func(y_true, y_pred)"
      ]
    }
  ],
  "metadata": {
    "colab": {
      "provenance": [],
      "authorship_tag": "ABX9TyNxSVBiRcQl1PnLRu6nTEhz",
      "include_colab_link": true
    },
    "kernelspec": {
      "display_name": "Python 3",
      "name": "python3"
    },
    "language_info": {
      "name": "python"
    }
  },
  "nbformat": 4,
  "nbformat_minor": 0
}